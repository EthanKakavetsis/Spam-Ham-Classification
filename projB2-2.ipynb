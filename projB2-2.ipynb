{
 "cells": [
  {
   "cell_type": "code",
   "execution_count": 49,
   "metadata": {
    "deletable": false,
    "editable": false
   },
   "outputs": [],
   "source": [
    "# Initialize Otter\n",
    "import otter\n",
    "grader = otter.Notebook(\"projB2.ipynb\")"
   ]
  },
  {
   "cell_type": "markdown",
   "metadata": {},
   "source": [
    "# Project B.2: Spam/Ham Classification - Build Your Own Model\n",
    "\n",
    "## Feature Engineering, Classification, and Cross Validation\n",
    "## Due Date: Thursday, April 27th, 11:59 PM PDT\n",
    "You must submit this assignment to Gradescope by the on-time deadline, Thursday, April 27th, 11:59 PM. \n",
    "Please read the syllabus for the grace period policy. \n",
    "No late submissions beyond the grace period will be accepted. While course staff is happy to help you if you encounter difficulties with submission, we may not be able to respond to last-minute requests for assistance (TAs need to sleep, after all!). \n",
    "**We strongly encourage you to plan to submit your work to Gradescope several hours before the stated deadline.** \n",
    "This way, you will have ample time to reach out to staff for submission support.\n",
    "\n",
    "### Collaboration Policy\n",
    "\n",
    "Data science is a collaborative activity. \n",
    "While you may talk with others about this project, we ask that you **write your solutions individually**. \n",
    "If you do discuss the assignments with others please **include their names** in the collaborators cell below."
   ]
  },
  {
   "cell_type": "markdown",
   "metadata": {},
   "source": [
    "**Collaborators**: *list collaborators here*"
   ]
  },
  {
   "cell_type": "markdown",
   "metadata": {
    "nbgrader": {
     "grade": false,
     "grade_id": "proj2",
     "locked": true,
     "schema_version": 2,
     "solution": false
    }
   },
   "source": [
    "## Introduction\n",
    "In this project, you will be building and improving on the concepts and functions that you implemented in Project B.1 to create your own classifier to distinguish spam emails from ham (non-spam) emails. We will evaluate your work based on your model's accuracy and your written responses in this notebook.\n",
    "\n",
    "After this assignment, you should feel comfortable with the following:\n",
    "\n",
    "- Using `sklearn` libraries to process data and fit models,\n",
    "- Validating the performance of your model and minimizing overfitting, and\n",
    "- Generating and analyzing ROC curve.\n",
    "\n",
    "## Content Warning\n",
    "This is a **real world** dataset– the emails you are trying to classify are actual spam and legitimate emails. As a result, some of the spam emails may be in poor taste or be considered inappropriate. We think the benefit of working with realistic data outweighs these inappropriate emails, and wanted to give a warning at the beginning of the project so that you are made aware.\n",
    "\n",
    "If you feel uncomfortable with this topic, **please contact your GSI or the instructors, or reach out via the Spring 2023 extenuating circumstances form.**"
   ]
  },
  {
   "cell_type": "code",
   "execution_count": 50,
   "metadata": {},
   "outputs": [],
   "source": [
    "# Run this cell to suppress all FutureWarnings\n",
    "import warnings\n",
    "warnings.filterwarnings(\"ignore\", category=FutureWarning)"
   ]
  },
  {
   "cell_type": "markdown",
   "metadata": {},
   "source": [
    "## Grading\n",
    "Grading is broken down into autograded answers and free response. \n",
    "\n",
    "For autograded answers, the results of your code are compared to provided and/or hidden tests.\n",
    "\n",
    "For free response, readers will evaluate how well you answered the question and/or fulfilled the requirements of the question.\n",
    "\n",
    "Question | Manual | Points\n",
    "----|----|----\n",
    "1 | Yes | 6\n",
    "2a | Yes | 4\n",
    "2b | Yes | 2\n",
    "3 | Yes | 3\n",
    "4a | No | 5\n",
    "4b | No | 10\n",
    "Total | 4 | 30"
   ]
  },
  {
   "cell_type": "code",
   "execution_count": 51,
   "metadata": {
    "ExecuteTime": {
     "end_time": "2019-04-03T20:17:41.341673Z",
     "start_time": "2019-04-03T20:17:41.330307Z"
    },
    "nbgrader": {
     "grade": false,
     "grade_id": "imports",
     "locked": true,
     "schema_version": 2,
     "solution": false
    }
   },
   "outputs": [],
   "source": [
    "import numpy as np\n",
    "import pandas as pd\n",
    "\n",
    "import matplotlib.pyplot as plt\n",
    "%matplotlib inline\n",
    "\n",
    "import seaborn as sns\n",
    "sns.set(style = \"whitegrid\", \n",
    "        color_codes = True,\n",
    "        font_scale = 1.5)"
   ]
  },
  {
   "cell_type": "markdown",
   "metadata": {
    "nbgrader": {
     "grade": false,
     "grade_id": "p1",
     "locked": true,
     "schema_version": 2,
     "solution": false
    }
   },
   "source": [
    "<br/><br/>\n",
    "<hr style=\"border: 5px solid #003262;\" />\n",
    "<hr style=\"border: 1px solid #fdb515;\" />\n",
    "\n",
    "# Setup and Recap\n",
    "\n",
    "Here we will provide a summary of Project B.1 to remind you of how we cleaned the data, explored it, and implemented methods that are going to be useful for building your own model."
   ]
  },
  {
   "cell_type": "markdown",
   "metadata": {
    "nbgrader": {
     "grade": false,
     "grade_id": "loading",
     "locked": true,
     "schema_version": 2,
     "solution": false
    }
   },
   "source": [
    "## Loading and Cleaning Data\n",
    "\n",
    "Remember that in email classification, our goal is to classify emails as spam or not spam (referred to as \"ham\") using features generated from the text in the email. \n",
    "\n",
    "The dataset consists of email messages and their labels (0 for ham, 1 for spam). Your labeled training dataset contains 8,348 labeled examples, and the unlabeled test set contains 1,000 unlabeled examples.\n",
    "\n",
    "Run the following cell to load in the data into a `DataFrame`.\n",
    "\n",
    "The `train` DataFrame contains labeled data that you will use to train your model. It contains four columns:\n",
    "\n",
    "1. `id`: An identifier for the training example.\n",
    "1. `subject`: The subject of the email.\n",
    "1. `email`: The text of the email.\n",
    "1. `spam`: 1 if the email is spam, 0 if the email is ham (not spam).\n",
    "\n",
    "The `test` DataFrame contains 1,000 unlabeled emails. You will predict labels for these emails and submit your predictions to the autograder for evaluation."
   ]
  },
  {
   "cell_type": "code",
   "execution_count": 52,
   "metadata": {},
   "outputs": [],
   "source": [
    "import zipfile\n",
    "with zipfile.ZipFile('spam_ham_data.zip') as item:\n",
    "    item.extractall()"
   ]
  },
  {
   "cell_type": "code",
   "execution_count": 53,
   "metadata": {},
   "outputs": [
    {
     "data": {
      "text/html": [
       "<div>\n",
       "<style scoped>\n",
       "    .dataframe tbody tr th:only-of-type {\n",
       "        vertical-align: middle;\n",
       "    }\n",
       "\n",
       "    .dataframe tbody tr th {\n",
       "        vertical-align: top;\n",
       "    }\n",
       "\n",
       "    .dataframe thead th {\n",
       "        text-align: right;\n",
       "    }\n",
       "</style>\n",
       "<table border=\"1\" class=\"dataframe\">\n",
       "  <thead>\n",
       "    <tr style=\"text-align: right;\">\n",
       "      <th></th>\n",
       "      <th>id</th>\n",
       "      <th>subject</th>\n",
       "      <th>email</th>\n",
       "      <th>spam</th>\n",
       "    </tr>\n",
       "  </thead>\n",
       "  <tbody>\n",
       "    <tr>\n",
       "      <th>0</th>\n",
       "      <td>0</td>\n",
       "      <td>Subject: A&amp;L Daily to be auctioned in bankrupt...</td>\n",
       "      <td>url: http://boingboing.net/#85534171\\n date: n...</td>\n",
       "      <td>0</td>\n",
       "    </tr>\n",
       "    <tr>\n",
       "      <th>1</th>\n",
       "      <td>1</td>\n",
       "      <td>Subject: Wired: \"Stronger ties between ISPs an...</td>\n",
       "      <td>url: http://scriptingnews.userland.com/backiss...</td>\n",
       "      <td>0</td>\n",
       "    </tr>\n",
       "    <tr>\n",
       "      <th>2</th>\n",
       "      <td>2</td>\n",
       "      <td>Subject: It's just too small                  ...</td>\n",
       "      <td>&lt;html&gt;\\n &lt;head&gt;\\n &lt;/head&gt;\\n &lt;body&gt;\\n &lt;font siz...</td>\n",
       "      <td>1</td>\n",
       "    </tr>\n",
       "    <tr>\n",
       "      <th>3</th>\n",
       "      <td>3</td>\n",
       "      <td>Subject: liberal defnitions\\n</td>\n",
       "      <td>depends on how much over spending vs. how much...</td>\n",
       "      <td>0</td>\n",
       "    </tr>\n",
       "    <tr>\n",
       "      <th>4</th>\n",
       "      <td>4</td>\n",
       "      <td>Subject: RE: [ILUG] Newbie seeks advice - Suse...</td>\n",
       "      <td>hehe sorry but if you hit caps lock twice the ...</td>\n",
       "      <td>0</td>\n",
       "    </tr>\n",
       "  </tbody>\n",
       "</table>\n",
       "</div>"
      ],
      "text/plain": [
       "   id                                            subject  \\\n",
       "0   0  Subject: A&L Daily to be auctioned in bankrupt...   \n",
       "1   1  Subject: Wired: \"Stronger ties between ISPs an...   \n",
       "2   2  Subject: It's just too small                  ...   \n",
       "3   3                      Subject: liberal defnitions\\n   \n",
       "4   4  Subject: RE: [ILUG] Newbie seeks advice - Suse...   \n",
       "\n",
       "                                               email  spam  \n",
       "0  url: http://boingboing.net/#85534171\\n date: n...     0  \n",
       "1  url: http://scriptingnews.userland.com/backiss...     0  \n",
       "2  <html>\\n <head>\\n </head>\\n <body>\\n <font siz...     1  \n",
       "3  depends on how much over spending vs. how much...     0  \n",
       "4  hehe sorry but if you hit caps lock twice the ...     0  "
      ]
     },
     "execution_count": 53,
     "metadata": {},
     "output_type": "execute_result"
    }
   ],
   "source": [
    "original_training_data = pd.read_csv('train.csv')\n",
    "test = pd.read_csv('test.csv')\n",
    "\n",
    "# Convert the emails to lower case as a first step to processing the text\n",
    "original_training_data['email'] = original_training_data['email'].str.lower()\n",
    "test['email'] = test['email'].str.lower()\n",
    "\n",
    "original_training_data.head()"
   ]
  },
  {
   "cell_type": "markdown",
   "metadata": {},
   "source": [
    "Feel free to explore the dataset above along with any specific spam and ham emails that interest you. Keep in mind that our data may contain missing values, which are handled in the following cell."
   ]
  },
  {
   "cell_type": "code",
   "execution_count": 54,
   "metadata": {
    "ExecuteTime": {
     "end_time": "2019-04-03T20:17:42.203231Z",
     "start_time": "2019-04-03T20:17:42.185104Z"
    },
    "nbgrader": {
     "grade": false,
     "grade_id": "cell-b1fb39d9b651ca1b",
     "locked": false,
     "schema_version": 2,
     "solution": true
    }
   },
   "outputs": [
    {
     "name": "stdout",
     "output_type": "stream",
     "text": [
      "Before imputation:\n",
      "id         0\n",
      "subject    6\n",
      "email      0\n",
      "spam       0\n",
      "dtype: int64\n",
      "------------\n",
      "After imputation:\n",
      "id         0\n",
      "subject    0\n",
      "email      0\n",
      "spam       0\n",
      "dtype: int64\n"
     ]
    }
   ],
   "source": [
    "# Fill any missing or NAN values\n",
    "print('Before imputation:')\n",
    "print(original_training_data.isnull().sum())\n",
    "original_training_data = original_training_data.fillna('')\n",
    "print('------------')\n",
    "print('After imputation:')\n",
    "print(original_training_data.isnull().sum())"
   ]
  },
  {
   "cell_type": "markdown",
   "metadata": {},
   "source": [
    "## Training/Validation Split\n",
    "\n",
    "Recall that the training data we downloaded is all the data we have available for both training models and **validating** the models that we train. We therefore split the training data into separate training and validation datsets. You will need this **validation data** to assess the performance of your classifier once you are finished training. \n",
    "\n",
    "As in Project B.1, we set the seed (`random_state`) to 42. **Do not modify this in the following questions, as our tests depend on this random seed.**"
   ]
  },
  {
   "cell_type": "code",
   "execution_count": 55,
   "metadata": {
    "ExecuteTime": {
     "end_time": "2019-04-03T20:17:42.317970Z",
     "start_time": "2019-04-03T20:17:42.294532Z"
    },
    "nbgrader": {
     "grade": false,
     "grade_id": "cell-873194ed3e686dfb",
     "locked": true,
     "schema_version": 2,
     "solution": false
    }
   },
   "outputs": [],
   "source": [
    "# This creates a 90/10 train-validation split on our labeled data.\n",
    "from sklearn.model_selection import train_test_split\n",
    "train, val = train_test_split(original_training_data, test_size = 0.1, random_state = 42)\n",
    "\n",
    "# We must do this in order to preserve the ordering of emails to labels for words_in_texts\n",
    "train = train.reset_index(drop = True)"
   ]
  },
  {
   "cell_type": "markdown",
   "metadata": {
    "nbgrader": {
     "grade": false,
     "grade_id": "feat-eng",
     "locked": true,
     "schema_version": 2,
     "solution": false
    }
   },
   "source": [
    "## Feature Engineering\n",
    "\n",
    "In order to train a logistic regression model, we need a numeric feature matrix $\\mathbb{X}$ and a vector of corresponding binary labels $\\mathbb{Y}$. To address this, in Project B.1, we implemented the function `words_in_texts`, which creates numeric features derived from the email text and uses those features for logistic regression. \n",
    "\n",
    "For this project, we have provided you with an implemented version of `words_in_texts`. Remember that the function outputs a 2-dimensional NumPy array containing one row for each email text. The row should contain either a 0 or a 1 for each word in the list: 0 if the word doesn't appear in the text and 1 if the word does. "
   ]
  },
  {
   "cell_type": "code",
   "execution_count": 56,
   "metadata": {},
   "outputs": [],
   "source": [
    "def words_in_texts(words, texts):\n",
    "    '''\n",
    "    Args:\n",
    "        words (list): words to find\n",
    "        texts (Series): strings to search in\n",
    "    \n",
    "    Returns:\n",
    "        A 2D NumPy array of 0s and 1s with shape (n, p) where n is the\n",
    "        number of texts and p is the number of words.\n",
    "    '''\n",
    "    import numpy as np\n",
    "    indicator_array = 1 * np.array([texts.str.contains(word) for word in words]).T\n",
    "    return indicator_array"
   ]
  },
  {
   "cell_type": "markdown",
   "metadata": {},
   "source": [
    "Run the following cell to see how the function works on some dummy text."
   ]
  },
  {
   "cell_type": "code",
   "execution_count": 57,
   "metadata": {},
   "outputs": [
    {
     "data": {
      "text/plain": [
       "array([[1, 0, 0],\n",
       "       [1, 0, 1]])"
      ]
     },
     "execution_count": 57,
     "metadata": {},
     "output_type": "execute_result"
    }
   ],
   "source": [
    "words_in_texts(['hello', 'bye', 'world'], pd.Series(['hello', 'hello worldhello']))"
   ]
  },
  {
   "cell_type": "markdown",
   "metadata": {
    "nbgrader": {
     "grade": false,
     "grade_id": "classification",
     "locked": true,
     "schema_version": 2,
     "solution": false
    }
   },
   "source": [
    "## EDA and Basic Classification\n",
    "\n",
    "In Project B.1, we proceeded to visualize the frequency of different words for both spam and ham emails, and used `words_in_texts(words, train['email'])` to directly to train a classifier. We also provided a simple set of 5 words that might be useful as features to distinguish spam/ham emails. \n",
    "\n",
    "We then built a model using the using the [`LogisticRegression`](http://scikit-learn.org/stable/modules/generated/sklearn.linear_model.LogisticRegression.html) classifier from `sklearn`.\n",
    "\n",
    "Run the following cell to see the performance of a simple model using these words and the `train` dataframe."
   ]
  },
  {
   "cell_type": "code",
   "execution_count": 58,
   "metadata": {
    "ExecuteTime": {
     "end_time": "2019-04-03T20:17:43.726012Z",
     "start_time": "2019-04-03T20:17:43.498088Z"
    },
    "nbgrader": {
     "grade": false,
     "grade_id": "q4-answer",
     "locked": false,
     "schema_version": 2,
     "solution": true
    },
    "tags": [
     "student"
    ]
   },
   "outputs": [
    {
     "data": {
      "text/plain": [
       "(array([[0, 0, 0, 0, 0],\n",
       "        [0, 0, 0, 0, 0],\n",
       "        [0, 0, 0, 0, 0],\n",
       "        [0, 0, 0, 0, 0],\n",
       "        [0, 0, 0, 1, 0]]),\n",
       " array([0, 0, 0, 0, 0]))"
      ]
     },
     "execution_count": 58,
     "metadata": {},
     "output_type": "execute_result"
    }
   ],
   "source": [
    "some_words = ['drug', 'bank', 'prescription', 'memo', 'private']\n",
    "\n",
    "X_train = words_in_texts(some_words, train['email'])\n",
    "Y_train = np.array(train['spam'])\n",
    "\n",
    "X_train[:5], Y_train[:5]"
   ]
  },
  {
   "cell_type": "code",
   "execution_count": 59,
   "metadata": {
    "ExecuteTime": {
     "end_time": "2019-04-03T20:17:44.593918Z",
     "start_time": "2019-04-03T20:17:43.783872Z"
    },
    "nbgrader": {
     "grade": false,
     "grade_id": "q5-answer",
     "locked": false,
     "schema_version": 2,
     "solution": true
    },
    "tags": [
     "student"
    ]
   },
   "outputs": [
    {
     "name": "stdout",
     "output_type": "stream",
     "text": [
      "Training Accuracy:  0.7576201251164648\n"
     ]
    }
   ],
   "source": [
    "from sklearn.linear_model import LogisticRegression\n",
    "\n",
    "model = LogisticRegression(solver = 'lbfgs')\n",
    "model.fit(X_train, Y_train)\n",
    "\n",
    "training_accuracy = model.score(X_train, Y_train)\n",
    "print(\"Training Accuracy: \", training_accuracy)"
   ]
  },
  {
   "cell_type": "markdown",
   "metadata": {},
   "source": [
    "## Evaluating Classifiers"
   ]
  },
  {
   "cell_type": "markdown",
   "metadata": {},
   "source": [
    "In our models, we are evaluating accuracy on the training set, which may provide a misleading accuracy measure. In Project B.1, we calculated various metrics to lead us to consider more ways of evaluating a classifier, in addition to overall accuracy. Below is a reference to those concepts.\n",
    "\n",
    "Presumably, our classifier will be used for **filtering**, i.e. preventing messages labeled `spam` from reaching someone's inbox. There are two kinds of errors we can make:\n",
    "- **False Positive (FP)**: A ham email gets flagged as spam and filtered out of the inbox.\n",
    "- **False Negative (FN)**: A spam email gets mislabeled as ham and ends up in the inbox.\n",
    "\n",
    "To be clear, we label spam emails as 1 and ham emails as 0. These definitions depend both on the true labels and the predicted labels. False positives and false negatives may be of differing importance, leading us to consider more ways of evaluating a classifier, in addition to overall accuracy:\n",
    "\n",
    "**Precision**: Measures the proportion $\\frac{\\text{TP}}{\\text{TP} + \\text{FP}}$ of emails flagged as spam that are actually spam.\n",
    "\n",
    "**Recall**: Measures the proportion $\\frac{\\text{TP}}{\\text{TP} + \\text{FN}}$ of spam emails that were correctly flagged as spam. \n",
    "\n",
    "**False positive rate**: Measures the proportion $\\frac{\\text{FP}}{\\text{FP} + \\text{TN}}$ of ham emails that were incorrectly flagged as spam.\n",
    "\n",
    "The below graphic (modified slightly from [Wikipedia](https://en.wikipedia.org/wiki/Precision_and_recall)) may help you understand precision and recall visually:<br />\n",
    "<center>\n",
    "<img alt=\"precision_recall\" src=\"precision_recall.png\" width=\"600px;\" />\n",
    "</center>\n",
    "\n",
    "Note that a True Positive (TP) is a spam email that is classified as spam, and a True Negative (TN) is a ham email that is classified as ham."
   ]
  },
  {
   "cell_type": "markdown",
   "metadata": {
    "nbgrader": {
     "grade": false,
     "grade_id": "p2",
     "locked": true,
     "schema_version": 2,
     "solution": false
    }
   },
   "source": [
    "<br/><br/>\n",
    "<hr style=\"border: 1px solid #fdb515;\" />\n",
    "\n",
    "# Moving Forward - Building Your Own Model\n",
    "\n",
    "With this in mind, it is now your task to make the spam filter more accurate. In order to get full credit on the accuracy part of this assignment, you must get at least **85%** accuracy on both the train and test set (see Q4 for the partial credit breakdown). To see your accuracy on the test set, you will use your classifier to predict every email in the `test` DataFrame and upload your predictions to Gradescope.\n",
    "\n",
    "**Gradescope limits you to three submissions per day**. You will be able to see your accuracy on the entire test set when submitting to Gradescope.\n",
    "\n",
    "Here are some ideas for improving your model:\n",
    "\n",
    "1. Finding better features based on the email text. Some example features are:\n",
    "    1. Number of characters in the subject / body\n",
    "    1. Number of words in the subject / body\n",
    "    1. Use of punctuation (e.g., how many '!'s were there?)\n",
    "    1. Number / percentage of capital letters \n",
    "    1. Whether the email is a reply to an earlier email or a forwarded email\n",
    "1. Finding better (and/or more) words to use as features. Which words are the best at distinguishing emails? This requires digging into the email text itself. \n",
    "1. Better data processing. For example, many emails contain HTML as well as text. You can consider extracting out the text from the HTML to help you find better words. Or, you can match HTML tags themselves, or even some combination of the two.\n",
    "1. Model selection. You can adjust parameters of your model (e.g. the penalty type, the regularization parameter, or any arguments in `LogisticRegression`) to achieve higher accuracy. Recall that you should use cross-validation to do feature and model selection properly! Otherwise, you will likely overfit to your training data.\n",
    "    1. We have imported `GridSearchCV` for you. You may use sklearn's `GridSearchCV` ([documentation](https://scikit-learn.org/1.1/modules/generated/sklearn.model_selection.GridSearchCV.html?highlight=gridsearchcv#sklearn.model_selection.GridSearchCV)) class to perform cross-validation. You do not need to code your own CV from scratch, though you are welcome to do so.\n",
    "\n",
    "You may use whatever method you prefer in order to create features, but **you are not allowed to import any external feature extraction libraries**. In addition, **you are only allowed to train logistic regression models**. No decision trees, random forests, k-nearest-neighbors, neural nets, etc.\n",
    "\n",
    "We have not provided any code to do this, so feel free to create as many cells as you need in order to tackle this task. However, answering questions 1, 2, and 3 should help guide you.\n",
    "\n",
    "---\n",
    "\n",
    "**Note:** *You may want to use your **validation data** to evaluate your model and get a better sense of how it will perform on the test set.* Note, however, that you may overfit to your validation set if you try to optimize your validation accuracy too much. Alternatively, you can perform cross-validation on the entire training set.\n",
    "\n",
    "\n",
    "---"
   ]
  },
  {
   "cell_type": "code",
   "execution_count": 60,
   "metadata": {},
   "outputs": [],
   "source": [
    "import numpy as np\n",
    "from pandas.api.types import CategoricalDtype\n",
    "\n",
    "def words_in_texts(words, texts):\n",
    "    indicator_array = 1 * np.array([texts.str.contains(word) for word in words]).T\n",
    "    return indicator_array\n",
    "\n",
    "\n",
    "def body_length(data): #Length of Email body\n",
    "    return [len(message) for message in data['email']]\n",
    "\n",
    "\n",
    "def ohe_subject(data): #one hot encodes if email is reply or forwarded\n",
    "    data = data['subject'].fillna(\" \")\n",
    "    empty = []\n",
    "    \n",
    "    for subject in data:\n",
    "        if 'RE:' in subject:\n",
    "            empty.append('reply')\n",
    "        elif 'FW:' in subject:\n",
    "            empty.append('forward')\n",
    "        else:\n",
    "            empty.append('none')\n",
    "    \n",
    "  \n",
    "    category = CategoricalDtype(categories=['reply','forward','none'])\n",
    "    ret_df = pd.DataFrame(empty, columns=['sub_type']) #Create empty dataframe\n",
    "    \n",
    "    ret_df['sub_type'] = ret_df['sub_type'].astype(category)\n",
    "    ret_df = pd.get_dummies(ret_df,\n",
    "                          prefix='ohe',\n",
    "                          columns=['sub_type'], \n",
    "                          drop_first=False)\n",
    "    \n",
    "    return ret_df\n",
    "\n",
    "\n",
    "def punc_in_texts(punc, texts): #Similair to words_in_texts except creates dataframe from punctuation counts\n",
    "\n",
    "    indicator_array = []\n",
    "    for text in texts:\n",
    "        indicator_array.append([1 if p in text else 0 for p in punc])\n",
    "    return np.array(indicator_array)\n",
    "\n",
    "\n",
    "#Creates setup for logistic regression for my generated features\n",
    "\n",
    "def process_data(data):\n",
    "    \n",
    "    dataframe = pd.DataFrame([], columns=[])\n",
    "    \n",
    "    #Feature engineer selected words\n",
    "    selected_words = ['<html>','money','please','investment','guaranteed' '<body>', '<table>', 'offer', '.org', 'url', 'click',\n",
    "                      'your','wrote','date','time','calendar']\n",
    "    \n",
    "    word_columns = words_in_texts(selected_words, data['email'])    \n",
    "    dataframe = pd.concat([dataframe, pd.DataFrame(word_columns)], axis=1)\n",
    "    \n",
    "    #Feature engineer selected punctuation\n",
    "    selected_punc = ['\\\\','+','=','!','#','?','\"','@','*','$','%']\n",
    "    punc_columns = punc_in_texts(selected_punc, data['email'])    \n",
    "    final_df = pd.concat([dataframe, pd.DataFrame(punc_columns)], axis=1)\n",
    "    \n",
    "    #Feature engineer body length column\n",
    "    length_data = body_length(data)\n",
    "    final_df = pd.concat([dataframe, pd.DataFrame(length_data, columns=['bod_length'])], axis=1)\n",
    "    \n",
    "    #Feature OHE categorical subject type\n",
    "    ohe_sub_data = ohe_subject(data)\n",
    "    final_df = pd.concat([dataframe, ohe_sub_data], axis=1)\n",
    "    \n",
    "    return dataframe"
   ]
  },
  {
   "cell_type": "markdown",
   "metadata": {},
   "source": [
    "<!-- BEGIN QUESTION -->\n",
    "\n",
    "<br><br>\n",
    "\n",
    "---\n",
    "\n",
    "## Question 1\n",
    "\n",
    "In this following cell, describe the process of improving your model. You should use at least 2-3 sentences each to address the follow questions:\n",
    "\n",
    "1. How did you find better features for your model?\n",
    "2. What did you try that worked or didn't work?\n",
    "3. What was surprising in your search for good features?\n"
   ]
  },
  {
   "cell_type": "markdown",
   "metadata": {},
   "source": [
    "1. I found better features by comparing the ratios of punctuantions and certain words in spam versus \"ham\" emails to find which had the greatest differnce in an attempt to further seperate them with data. Also I thought a good feature would be length of either the subject or body. I compared the two and found I got higher accuracy when using just the length of the body. \n",
    "\n",
    "2. Something I tried that didn't work was implementing a function that compared upper to lower case ration in emails. This just didn't work because I couldnt figure out a fucntion to extrac t this data from the orignal data. I think thus would have been very powerful and helped a lot in increasing accuracy of my model.\n",
    "\n",
    "3. Something suprising was the power of choosing the right words to compare and finding words with the biggest differnce between ham and spam. So once I realized how powerful this was I looked at punctuation and this is what really pushed my model over the 85% accuracy marker. "
   ]
  },
  {
   "cell_type": "markdown",
   "metadata": {
    "nbgrader": {
     "grade": false,
     "grade_id": "q8",
     "locked": true,
     "schema_version": 2,
     "solution": false
    }
   },
   "source": [
    "<!-- END QUESTION -->\n",
    "\n",
    "<br/><br/>\n",
    "<hr style=\"border: 1px solid #fdb515;\" />\n",
    "\n",
    "# Exploratory Data Analysis\n",
    "\n",
    "In the cell below, show a visualization that you used to select features for your model. \n",
    "\n",
    "Include:\n",
    "\n",
    "1. A plot showing something meaningful about the data that helped you during feature selection, model selection, or both.\n",
    "2. Two or three sentences describing what you plotted and its implications with respect to your features.\n",
    "\n",
    "Feel free to create as many plots as you want in your process of feature selection, but select only one for the response cell below.\n",
    "\n",
    "**You should not just produce an identical visualization to Question 3 in Project B.1.** Specifically, don't show us a bar chart of proportions, or a one-dimensional class-conditional density plot. Any other plot is acceptable, **as long as it comes with thoughtful commentary.** Here are some ideas:\n",
    "\n",
    "1. Consider the correlation between multiple features (look up correlation plots and `sns.heatmap`). \n",
    "1. Try to show redundancy in a group of features (e.g. `body` and `html` might co-occur relatively frequently, or you might be able to design a feature that captures all html tags and compare it to these). \n",
    "1. Visualize which words have high or low values for some useful statistic.\n",
    "1. Visually depict whether spam emails tend to be wordier (in some sense) than ham emails."
   ]
  },
  {
   "cell_type": "markdown",
   "metadata": {},
   "source": [
    "<!-- BEGIN QUESTION -->\n",
    "\n",
    "<br><br>\n",
    "\n",
    "---\n",
    "\n",
    "## Question 2a\n",
    "\n",
    "Generate your visualization in the cell below.\n"
   ]
  },
  {
   "cell_type": "code",
   "execution_count": 61,
   "metadata": {
    "ExecuteTime": {
     "end_time": "2019-04-02T00:27:36.170465Z",
     "start_time": "2019-04-02T00:27:36.167776Z"
    },
    "nbgrader": {
     "grade": true,
     "grade_id": "q8-eda",
     "locked": false,
     "points": 3,
     "schema_version": 2,
     "solution": true
    },
    "tags": [
     "student",
     "written",
     "q_eda1"
    ]
   },
   "outputs": [
    {
     "data": {
      "text/plain": [
       "<AxesSubplot:xlabel='length', ylabel='spam2'>"
      ]
     },
     "execution_count": 61,
     "metadata": {},
     "output_type": "execute_result"
    },
    {
     "data": {
      "image/png": "[encoded data removed]",
      "text/plain": [
       "<Figure size 640x480 with 1 Axes>"
      ]
     },
     "metadata": {},
     "output_type": "display_data"
    }
   ],
   "source": [
    "def helper():\n",
    "    list = []\n",
    "    for i in train['spam']:\n",
    "        if i == 0:\n",
    "            list.append('ham')\n",
    "        else:\n",
    "            list.append('spam')\n",
    "    return list         \n",
    "train['length'] = body_length(train)\n",
    "train['spam2'] = helper()\n",
    "train = train.sort_values('length', ascending = False)\n",
    "train2 = train[1000:]\n",
    "sns.violinplot(data = train2, x='length', y='spam2')"
   ]
  },
  {
   "cell_type": "code",
   "execution_count": 62,
   "metadata": {},
   "outputs": [
    {
     "data": {
      "text/plain": [
       "<AxesSubplot:xlabel='length', ylabel='spam2'>"
      ]
     },
     "execution_count": 62,
     "metadata": {},
     "output_type": "execute_result"
    },
    {
     "data": {
      "image/png": "[encoded data removed]",
      "text/plain": [
       "<Figure size 640x480 with 1 Axes>"
      ]
     },
     "metadata": {},
     "output_type": "display_data"
    }
   ],
   "source": [
    "sns.violinplot(data = train, x='length', y='spam2')"
   ]
  },
  {
   "cell_type": "code",
   "execution_count": 63,
   "metadata": {},
   "outputs": [
    {
     "data": {
      "text/plain": [
       "<AxesSubplot:xlabel='length', ylabel='spam2'>"
      ]
     },
     "execution_count": 63,
     "metadata": {},
     "output_type": "execute_result"
    },
    {
     "data": {
      "image/png": "[encoded data removed]",
      "text/plain": [
       "<Figure size 640x480 with 1 Axes>"
      ]
     },
     "metadata": {},
     "output_type": "display_data"
    }
   ],
   "source": [
    "sns.violinplot(data = train[500:], x='length', y='spam2')"
   ]
  },
  {
   "cell_type": "markdown",
   "metadata": {},
   "source": [
    "<!-- END QUESTION -->\n",
    "\n",
    "<!-- BEGIN QUESTION -->\n",
    "\n",
    "<br><br>\n",
    "\n",
    "---\n",
    "\n",
    "## Question 2b\n",
    "\n",
    "Write your commentary in the cell below.\n"
   ]
  },
  {
   "cell_type": "markdown",
   "metadata": {},
   "source": [
    "Aside from the plots aobve I also looked at bar plots comapring the ratios of words to total nubmer of words. I found that the spam emails had far less of super common words like (the, a, and, of, you) A.K.A filler words which are common in sentences between conversation. So usiong intuition this makes sense. Then I ended up lookig at the length of the body of the emails to comapre spam versus ham. For my chart I choose a violin plot because I thought it would be the easiest to see the differnce in the groups visually. From my plots we can see that spam emails on average tend to be longer but ham emails will reach lengths far greater than spam emails ocassionly. Which all makes sense intuitively. Also we can see that usually the spam emails are all about the same lenght, but often still long due to the random characters and links would be my best guess."
   ]
  },
  {
   "cell_type": "markdown",
   "metadata": {},
   "source": [
    "<!-- END QUESTION -->\n",
    "\n",
    "<!-- BEGIN QUESTION -->\n",
    "\n",
    "<br><br>\n",
    "\n",
    "---\n",
    "\n",
    "## Question 3: ROC Curve\n",
    "\n",
    "In most cases we won't be able to get 0 false positives and 0 false negatives, so we have to compromise. For example, in the case of cancer screenings, false negatives are comparatively worse than false positives — a false negative means that a patient might not discover that they have cancer until it's too late, whereas a patient can just receive another screening for a false positive.\n",
    "\n",
    "Recall that logistic regression calculates the probability that an example belongs to a certain class. Then, to classify an example we say that an email is spam if our classifier gives it $\\ge 0.5$ probability of being spam. However, *we can adjust that cutoff threshold*: we can say that an email is spam only if our classifier gives it $\\ge 0.7$ probability of being spam, for example. This is how we can trade off false positives and false negatives.\n",
    "\n",
    "The Receiver Operating Characteristic (ROC) curve shows this trade off for each possible cutoff probability. In the cell below, plot a ROC curve for your final classifier (the one you use to make predictions for Gradescope) on the training data. Refer to Lecture 24 to see how to plot an ROC curve.\n",
    "\n",
    "**Hint**: You'll want to use the `.predict_proba` method for your classifier instead of `.predict` to get probabilities instead of binary predictions.\n"
   ]
  },
  {
   "cell_type": "code",
   "execution_count": 65,
   "metadata": {
    "tags": []
   },
   "outputs": [
    {
     "data": {
      "application/vnd.plotly.v1+json": {
       "config": {
        "plotlyServerURL": "https://plot.ly"
       },
       "data": [
        {
         "hovertemplate": "<b>%{hovertext}</b><br><br>x=%{x}<br>y=%{y}<extra></extra>",
         "hovertext": [
          4.019090561993282e-05,
          8.173912724262369e-05,
          9.33725298785072e-05,
          0.00012176967382057214,
          0.00013593352570292737,
          0.00015528900120584526,
          0.00016367182734855243,
          0.00018988797065655822,
          0.00020249961431644345,
          0.00023133119366467575,
          0.00024381793591497937,
          0.0002828678543732807,
          0.0003157642043154546,
          0.00036071640113713145,
          0.00041176889532259527,
          0.0004323911807305904,
          0.00047035121096741664,
          0.00047038189053585304,
          0.0004782837451014144,
          0.00048128380689772544,
          0.0005372985882852174,
          0.0006133275735170028,
          0.00065520808491403,
          0.0006593171825822559,
          0.0007006112079490515,
          0.0007123778838954481,
          0.0007820513608055252,
          0.0008454679202328377,
          0.0008989259753753595,
          0.0009561617808975543,
          0.0009686310291210745,
          0.0010921813838836011,
          0.0011105171227371049,
          0.0011646501497429664,
          0.0012628820591810365,
          0.0013194318040697863,
          0.001368730431692635,
          0.0014238183014831881,
          0.001447807889467789,
          0.0015209582026417371,
          0.001521326396436856,
          0.0016262564851030102,
          0.001632098753529616,
          0.0016344040857377501,
          0.0018150996674075458,
          0.001947692007897728,
          0.001982662364515405,
          0.0020913560292312077,
          0.0022176406886592935,
          0.002264229279031292,
          0.002264776995877925,
          0.002325615673643255,
          0.0023658822451053363,
          0.0024055496102699686,
          0.0027017246331208795,
          0.0027188103486648968,
          0.002763959151605264,
          0.002898896494176669,
          0.0029400407810195295,
          0.002950895010255699,
          0.00312319966321041,
          0.0032930497163066856,
          0.0033430813385794326,
          0.003520600046278178,
          0.0035274703335682186,
          0.003579558423773545,
          0.003618962951768728,
          0.004029405899225004,
          0.004077236877872914,
          0.004357685801481234,
          0.004409329851779901,
          0.004513392435541161,
          0.004513534541492336,
          0.004525014906639126,
          0.004594361932329832,
          0.004595470711886945,
          0.004671217966755439,
          0.00467234520728774,
          0.004862161704340315,
          0.004898069046618548,
          0.005216177604808417,
          0.005246143957983077,
          0.005479613837750675,
          0.0055711957808493775,
          0.005627959642220198,
          0.005878321107706242,
          0.0060621412464004956,
          0.006331694423284539,
          0.006830934285475534,
          0.006944943417452292,
          0.007226415105281944,
          0.007253463939876884,
          0.007617706559380125,
          0.007619539392131103,
          0.00814165041297154,
          0.008181916178229059,
          0.008695213294390573,
          0.008749303345753525,
          0.009336528160747978,
          0.009403763886235535,
          0.009422006340608061,
          0.00991177599296792,
          0.010419361955676242,
          0.010450608314738392,
          0.010612343762300325,
          0.010767919524514462,
          0.010788779496071882,
          0.011306635330714573,
          0.011309345611005859,
          0.011380244792634947,
          0.011565418557075591,
          0.011566526144732876,
          0.012252731166135325,
          0.012358686400852555,
          0.012899150075217527,
          0.013241868386775468,
          0.013551969120359157,
          0.013776597131575889,
          0.013972378149555416,
          0.014695173791083772,
          0.01472352853409067,
          0.014830048101009075,
          0.015526959126485397,
          0.01572846287185041,
          0.016692102198668086,
          0.01679174267447495,
          0.016860253756413954,
          0.017526127050255948,
          0.018145163439218893,
          0.01878480573200152,
          0.01911629228994898,
          0.019972198067892414,
          0.020056527837794207,
          0.020498938038952665,
          0.02066683767671713,
          0.020750825638929903,
          0.02083628195340158,
          0.021402720014296887,
          0.021579676968676898,
          0.02177798803051601,
          0.0227303655278618,
          0.022735751186510975,
          0.023025700584973417,
          0.023103565110132514,
          0.023166852537459114,
          0.024032560950244086,
          0.024666148329245182,
          0.02588810872454984,
          0.02588975438316291,
          0.026047995425371354,
          0.02631342984818029,
          0.026423812654198117,
          0.027002803291811477,
          0.028013146346922764,
          0.02821517747844238,
          0.028470554669698965,
          0.029466235163892206,
          0.029818561333439013,
          0.030235642580994697,
          0.031007814127956033,
          0.031554878681665545,
          0.031989691212314285,
          0.0322425762629869,
          0.032917338366759676,
          0.033490726874382516,
          0.03349857466604246,
          0.033921018258564126,
          0.03570576624866245,
          0.03592179137734757,
          0.036811506974227706,
          0.03808745389412114,
          0.038317316002704875,
          0.03860233119270257,
          0.04116898009967735,
          0.04233070543391972,
          0.042583752837636164,
          0.0425850423275516,
          0.042679300735314125,
          0.043317978892784784,
          0.04362849263593975,
          0.044049495299274474,
          0.04471280108846073,
          0.04495546870823514,
          0.045609516136124004,
          0.04570794971144542,
          0.04573921432635269,
          0.04606302762135695,
          0.046922878208268085,
          0.04835637536001074,
          0.049202273434422295,
          0.04998787171546743,
          0.05191483710702327,
          0.052279975791621906,
          0.05387031479058602,
          0.05482772189179561,
          0.058158358309707746,
          0.05883295800316712,
          0.059078070480974576,
          0.06057243003358317,
          0.060917778757756905,
          0.06178310431472586,
          0.062150536606463413,
          0.06319412595565024,
          0.06664893063492679,
          0.06665299008905427,
          0.06686828851137633,
          0.0670432328041892,
          0.07003082618104793,
          0.07236776864261277,
          0.07452515378809972,
          0.07542459955100339,
          0.075687456300243,
          0.07792090067585675,
          0.0791744265807392,
          0.07921399712733043,
          0.07952816839016758,
          0.07954591614832211,
          0.08323922605540167,
          0.08394396983339417,
          0.0842442802028508,
          0.08508213174819725,
          0.08517519873842602,
          0.0855390477166979,
          0.08951812680378048,
          0.09309187173118935,
          0.09313190718793013,
          0.09616002648578154,
          0.09926308291261322,
          0.09927174556432472,
          0.10087752615629854,
          0.10675410446443569,
          0.10872810258321963,
          0.11360490824230653,
          0.11811347146316849,
          0.11986064916024566,
          0.12012051634959196,
          0.1233017187861659,
          0.12908810372094348,
          0.12979306037149405,
          0.13269452280817054,
          0.13342370199644843,
          0.13536259218102256,
          0.14103694449020004,
          0.14230602490002758,
          0.1427579881653566,
          0.14321088933692927,
          0.1439802207926838,
          0.1443524901892339,
          0.1503381707725839,
          0.15725115993831013,
          0.158081999754589,
          0.1598387707771263,
          0.16634176435640058,
          0.16828709523834148,
          0.16866590870924608,
          0.1690248776647567,
          0.16933040893010998,
          0.16955411349770447,
          0.17021217962596594,
          0.17661852065764008,
          0.17788102082601212,
          0.18309676176283762,
          0.18504456144614484,
          0.1857835829574346,
          0.1859898399884077,
          0.1981926316240638,
          0.20386139345633075,
          0.20677060619402096,
          0.20951766007268072,
          0.2096574589862061,
          0.210230636128184,
          0.21565588059443544,
          0.21626267957550166,
          0.21731952547353017,
          0.2175185416031519,
          0.21835961859314756,
          0.22016782790601805,
          0.2208379945517117,
          0.22145666367633912,
          0.22845786843403387,
          0.22847494597996895,
          0.23162159918602424,
          0.23732382405141544,
          0.24035379812884153,
          0.24711300890335489,
          0.2503273258642654,
          0.25034550774128705,
          0.25369432690168886,
          0.25395246306962826,
          0.25615765023992537,
          0.26463458598132905,
          0.2658538080131822,
          0.27425736082579416,
          0.27613912334621205,
          0.2789325089045675,
          0.2797173888779936,
          0.28061270302649527,
          0.283087713193991,
          0.2913283003466328,
          0.2921058681331454,
          0.2926150204777001,
          0.2926350748671732,
          0.2960970613017956,
          0.2986620452426083,
          0.3024169093742319,
          0.31126380390490466,
          0.31484808204017367,
          0.3159021580527224,
          0.31674536924234303,
          0.32036340814508396,
          0.3217412924229086,
          0.3322265498964251,
          0.33533152522993054,
          0.33718551211483666,
          0.33826665633337855,
          0.34242723294895666,
          0.34901333911332,
          0.35280963690436423,
          0.36117855893863177,
          0.3650329815745283,
          0.3656260693765544,
          0.3675397582841695,
          0.37289959434918146,
          0.3758722241359576,
          0.38070906921720016,
          0.38816345202693237,
          0.39241395844919796,
          0.39392211819132006,
          0.39790831922695186,
          0.40672598339632765,
          0.4075676308759432,
          0.4075833873204971,
          0.407591024129233,
          0.4090948169169525,
          0.40937759735687085,
          0.4119033838907974,
          0.4131298970837014,
          0.4204556105310594,
          0.42756665536319666,
          0.43113464981584393,
          0.43689805656316855,
          0.44100270554473814,
          0.4454027861290481,
          0.453196903608012,
          0.4553671326608554,
          0.45720150128334147,
          0.4684368173058427,
          0.4698574951368751,
          0.47290973349320076,
          0.4729338832442859,
          0.477364199566301,
          0.4785827858307258,
          0.489459406946551,
          0.49097205379308656,
          0.49194652135431005,
          0.49733312750227254,
          0.49751333781871276,
          0.4986257045044093,
          0.5061760909852336,
          0.5077318736605646,
          0.5193298591860606,
          0.5194482103123924,
          0.5251596380748029,
          0.5336298501528024,
          0.5351864341395947,
          0.5361562248365301,
          0.5380723996438427,
          0.5396190908220988,
          0.5402986373805382,
          0.5416899200123729,
          0.5447240147250314,
          0.5458247760907446,
          0.5546879975361495,
          0.5588010987388169,
          0.5603589641514625,
          0.5633809485390773,
          0.5677696462311103,
          0.5718551824683527,
          0.5831951584575589,
          0.5850148901348394,
          0.5881856418903684,
          0.5890554021306097,
          0.5950285543378446,
          0.595794159606017,
          0.597038693014158,
          0.5999745378770596,
          0.603039879227219,
          0.6045364804950502,
          0.6051827559109892,
          0.6104912125622677,
          0.6151577078861756,
          0.6169141324098005,
          0.6190958230278432,
          0.6221633344596927,
          0.6228964202631503,
          0.624364791186726,
          0.630266757959755,
          0.6317233977795615,
          0.6344194122340916,
          0.6352917993937054,
          0.635884252893911,
          0.6377903238962203,
          0.6416317602693097,
          0.6425588937290323,
          0.6439944603227535,
          0.6470014034363932,
          0.6550376861184795,
          0.6578062944043738,
          0.6609423969134468,
          0.6618156062244457,
          0.6621205855073984,
          0.6655358617253729,
          0.6669414770235338,
          0.6739016397748757,
          0.6758012668641648,
          0.6758224930121529,
          0.6774403086577352,
          0.6794632913134516,
          0.6822872762131346,
          0.6833341641346761,
          0.6873305653020032,
          0.6901109294624446,
          0.6935536884687223,
          0.6948817004390183,
          0.7042634801976273,
          0.7050532627981184,
          0.7104106355714476,
          0.715117005707434,
          0.7176955243343691,
          0.7218436926879076,
          0.7223569929243828,
          0.7256872978843982,
          0.7266580502714649,
          0.7281242289156502,
          0.7285766968522057,
          0.7300981235800483,
          0.7343433615360717,
          0.737878306808814,
          0.7404617685280993,
          0.7438612530699421,
          0.7438797119448672,
          0.7450637886260999,
          0.746644387069186,
          0.7489504801688318,
          0.7497842782954339,
          0.7498672836649264,
          0.7513093239016677,
          0.7529804472484474,
          0.7564432990222817,
          0.758924777834855,
          0.759500866849678,
          0.760448906934864,
          0.7627426918387161,
          0.7660973582305411,
          0.7761370336165908,
          0.7772221195229596,
          0.779225238307464,
          0.780762799087893,
          0.7820791984440448,
          0.7845509576662866,
          0.7855723232917702,
          0.7890899680269075,
          0.7911213327216908,
          0.7932896673340143,
          0.7978457347644438,
          0.7984075360784469,
          0.8006060100799876,
          0.8018657660018026,
          0.8020822162528115,
          0.8068230080492751,
          0.8095376212538415,
          0.8122765069646132,
          0.816582806462131,
          0.8170583358682648,
          0.8190659777267398,
          0.8195364920011065,
          0.819643080127529,
          0.8239565361335229,
          0.8273813256726852,
          0.8279052506676585,
          0.8284792998253162,
          0.8288040208559804,
          0.8293664552717717,
          0.8298375436553926,
          0.8299175258381044,
          0.8312180357970086,
          0.8353432908358448,
          0.8377978657741492,
          0.8386462099240488,
          0.8402105779880861,
          0.8424355905918047,
          0.8432728411170818,
          0.8443589993140789,
          0.8448884471632183,
          0.8457065361556481,
          0.8473912605227714,
          0.8507955865897693,
          0.8513088498028157,
          0.8551559708496091,
          0.8552107708985313,
          0.855545276903008,
          0.8558611158713929,
          0.8577388273641814,
          0.8615395302742409,
          0.8622918618282669,
          0.8642590744313412,
          0.8652715019567552,
          0.8652827958783769,
          0.8689127535665375,
          0.8697526608082079,
          0.8708806364701827,
          0.8709303852010837,
          0.8727923982158325,
          0.8745744903308049,
          0.8779893862409291,
          0.880980034927865,
          0.881420523380412,
          0.8820046150142182,
          0.8837281951338082,
          0.8838022449817041,
          0.8855478307660615,
          0.8869983635785886,
          0.8895649167997945,
          0.8902892081362731,
          0.8942770545970824,
          0.8963157166648389,
          0.8978544615363941,
          0.8979551258214223,
          0.8979640030490107,
          0.8994810295366044,
          0.9007900846986522,
          0.9023086785911423,
          0.9051123775410862,
          0.9053826803082066,
          0.9080469690182381,
          0.9095249834590059,
          0.9098367811092435,
          0.9108871838671322,
          0.9123877854674884,
          0.9157840689132596,
          0.9168799788673689,
          0.916887362139298,
          0.917601075229215,
          0.9181819372311916,
          0.918615243273945,
          0.9210672742309549,
          0.9210743175766696,
          0.9230795179161434,
          0.9233341674157662,
          0.9240101674643495,
          0.9255981947281637,
          0.9267378883964317,
          0.9267679254697053,
          0.9278910970038406,
          0.9279475404627748,
          0.9282362796265506,
          0.9291327288356589,
          0.9302203088499794,
          0.9302223617882553,
          0.9305589534111306,
          0.9311617123395836,
          0.9314198642580411,
          0.934536064644718,
          0.9358016304926815,
          0.9364170769403392,
          0.9374022538542064,
          0.937630655043392,
          0.9389203668872108,
          0.9389984830670657,
          0.9412229676397791,
          0.9418617699080666,
          0.9424429553980266,
          0.943562890056075,
          0.9435628900560752,
          0.943898565275412,
          0.9447746577434585,
          0.9463506091835796,
          0.947208730152035,
          0.9479110690002033,
          0.9481702696073024,
          0.9486170891553374,
          0.9492538323264633,
          0.9496315106288986,
          0.9523182903596451,
          0.9525719493189477,
          0.9529048846978129,
          0.9533513637540276,
          0.9561482627103751,
          0.9564098204327378,
          0.956548540910125,
          0.9581611550172668,
          0.9583850891700263,
          0.9612663938946442,
          0.9616352405867673,
          0.9638124479587085,
          0.9644303090820844,
          0.9654952673038785,
          0.9676604520151986,
          0.968177983637458,
          0.9685759796434326,
          0.9692822999720182,
          0.9697746877706895,
          0.9714316016901662,
          0.971563260800236,
          0.9718905364884435,
          0.9725525701234004,
          0.973328011849448,
          0.9735758072743343,
          0.9736653616194906,
          0.974573286274316,
          0.9749938419918519,
          0.9754172440081708,
          0.9758419328594,
          0.9763614089156873,
          0.9765735257233918,
          0.9770776397152358,
          0.978436533379272,
          0.9791709059757209,
          0.9795081359515105,
          0.9799503966061406,
          0.9806421251928847,
          0.9809559989077191,
          0.9810737294199556,
          0.9819384956391879,
          0.9827888683706336,
          0.9830758987801247,
          0.9840087138858657,
          0.9840966002957605,
          0.9844969164813927,
          0.9848439024019618,
          0.9854225393106664,
          0.9862281896590304,
          0.9872165146896795,
          0.9872724197952271,
          0.9874945351276115,
          0.9883429302375377,
          0.9885334010730552,
          0.9891643799886976,
          0.9892690020812926,
          0.9895028588310699,
          0.9898185703112177,
          0.9905449763227432,
          0.9921452842225895,
          0.9921822513639087,
          0.9923169460091761,
          0.993292938960187,
          0.9936336839740404,
          0.9949148426887142,
          0.9954880484474471,
          0.9961863828447165,
          0.9969043984182052,
          0.9974369598157861,
          0.9974932662640301,
          0.9976323865627369,
          0.9983160091183139,
          0.9989931406436735
         ],
         "legendgroup": "",
         "line": {
          "color": "#636efa",
          "dash": "solid"
         },
         "marker": {
          "symbol": "circle"
         },
         "mode": "lines",
         "name": "",
         "orientation": "v",
         "showlegend": false,
         "type": "scatter",
         "x": [
          1,
          1,
          1,
          1,
          1,
          1,
          0.9994786235662148,
          0.9994786235662148,
          0.9994786235662148,
          0.9994786235662148,
          0.9994786235662148,
          0.9994786235662148,
          0.9994786235662148,
          0.9994786235662148,
          0.9994786235662148,
          0.9994786235662148,
          0.9994786235662148,
          0.9994786235662148,
          0.9994786235662148,
          0.9994786235662148,
          0.9994786235662148,
          0.9994786235662148,
          0.9994786235662148,
          0.9994786235662148,
          0.9994786235662148,
          0.9994786235662148,
          0.9994786235662148,
          0.9994786235662148,
          0.9994786235662148,
          0.9994786235662148,
          0.9994786235662148,
          0.9994786235662148,
          0.9994786235662148,
          0.9994786235662148,
          0.9994786235662148,
          0.9994786235662148,
          0.9994786235662148,
          0.9994786235662148,
          0.9994786235662148,
          0.9994786235662148,
          0.9994786235662148,
          0.9984358706986444,
          0.9984358706986444,
          0.9984358706986444,
          0.9984358706986444,
          0.9984358706986444,
          0.9984358706986444,
          0.9984358706986444,
          0.9984358706986444,
          0.9984358706986444,
          0.9984358706986444,
          0.9984358706986444,
          0.9984358706986444,
          0.9984358706986444,
          0.9984358706986444,
          0.9984358706986444,
          0.9984358706986444,
          0.9984358706986444,
          0.9984358706986444,
          0.9984358706986444,
          0.9984358706986444,
          0.9984358706986444,
          0.9984358706986444,
          0.9984358706986444,
          0.9984358706986444,
          0.9984358706986444,
          0.9984358706986444,
          0.9984358706986444,
          0.9984358706986444,
          0.9984358706986444,
          0.9984358706986444,
          0.9984358706986444,
          0.9984358706986444,
          0.9984358706986444,
          0.9984358706986444,
          0.9984358706986444,
          0.9984358706986444,
          0.9984358706986444,
          0.9984358706986444,
          0.9984358706986444,
          0.9984358706986444,
          0.9984358706986444,
          0.9984358706986444,
          0.9984358706986444,
          0.9984358706986444,
          0.9984358706986444,
          0.9984358706986444,
          0.9984358706986444,
          0.9984358706986444,
          0.9984358706986444,
          0.9984358706986444,
          0.9984358706986444,
          0.9984358706986444,
          0.9984358706986444,
          0.9984358706986444,
          0.9984358706986444,
          0.9984358706986444,
          0.9963503649635036,
          0.9963503649635036,
          0.9963503649635036,
          0.9963503649635036,
          0.9963503649635036,
          0.9963503649635036,
          0.9963503649635036,
          0.9963503649635036,
          0.9963503649635036,
          0.9963503649635036,
          0.9963503649635036,
          0.9963503649635036,
          0.9953076120959332,
          0.9953076120959332,
          0.9953076120959332,
          0.9953076120959332,
          0.9953076120959332,
          0.9953076120959332,
          0.9953076120959332,
          0.9953076120959332,
          0.9953076120959332,
          0.9942648592283628,
          0.9942648592283628,
          0.9942648592283628,
          0.9942648592283628,
          0.9942648592283628,
          0.9942648592283628,
          0.9942648592283628,
          0.9942648592283628,
          0.9937434827945777,
          0.9937434827945777,
          0.9937434827945777,
          0.9937434827945777,
          0.9927007299270073,
          0.9927007299270073,
          0.9927007299270073,
          0.9927007299270073,
          0.9927007299270073,
          0.9927007299270073,
          0.9927007299270073,
          0.9927007299270073,
          0.9927007299270073,
          0.9927007299270073,
          0.9927007299270073,
          0.9927007299270073,
          0.9927007299270073,
          0.9927007299270073,
          0.9927007299270073,
          0.9927007299270073,
          0.9916579770594369,
          0.9916579770594369,
          0.9895724713242962,
          0.9890510948905109,
          0.9890510948905109,
          0.9885297184567258,
          0.9885297184567258,
          0.9885297184567258,
          0.9885297184567258,
          0.9885297184567258,
          0.9885297184567258,
          0.9880083420229405,
          0.9880083420229405,
          0.9880083420229405,
          0.9880083420229405,
          0.9880083420229405,
          0.9880083420229405,
          0.9880083420229405,
          0.9880083420229405,
          0.9880083420229405,
          0.9880083420229405,
          0.9880083420229405,
          0.9880083420229405,
          0.9869655891553701,
          0.9869655891553701,
          0.9859228362877998,
          0.9859228362877998,
          0.9859228362877998,
          0.9859228362877998,
          0.9817518248175182,
          0.9817518248175182,
          0.9817518248175182,
          0.9817518248175182,
          0.9817518248175182,
          0.9817518248175182,
          0.9817518248175182,
          0.9801876955161627,
          0.9796663190823774,
          0.9796663190823774,
          0.9796663190823774,
          0.9791449426485923,
          0.9791449426485923,
          0.9791449426485923,
          0.9791449426485923,
          0.9791449426485923,
          0.9786235662148071,
          0.9786235662148071,
          0.9786235662148071,
          0.9786235662148071,
          0.9786235662148071,
          0.9786235662148071,
          0.9781021897810219,
          0.9781021897810219,
          0.9781021897810219,
          0.9781021897810219,
          0.9603753910323254,
          0.9603753910323254,
          0.9603753910323254,
          0.9603753910323254,
          0.9603753910323254,
          0.9603753910323254,
          0.9603753910323254,
          0.959332638164755,
          0.959332638164755,
          0.9577685088633994,
          0.9572471324296142,
          0.9572471324296142,
          0.9572471324296142,
          0.9572471324296142,
          0.956725755995829,
          0.956725755995829,
          0.956725755995829,
          0.956725755995829,
          0.956725755995829,
          0.9556830031282586,
          0.9556830031282586,
          0.9556830031282586,
          0.9551616266944735,
          0.9551616266944735,
          0.9551616266944735,
          0.9525547445255474,
          0.9525547445255474,
          0.9520333680917622,
          0.9520333680917622,
          0.9520333680917622,
          0.9520333680917622,
          0.9520333680917622,
          0.9520333680917622,
          0.9504692387904067,
          0.9504692387904067,
          0.9499478623566214,
          0.9499478623566214,
          0.9499478623566214,
          0.948905109489051,
          0.9452554744525548,
          0.9452554744525548,
          0.9452554744525548,
          0.9452554744525548,
          0.9452554744525548,
          0.9452554744525548,
          0.9452554744525548,
          0.943169968717414,
          0.9426485922836287,
          0.9421272158498436,
          0.9421272158498436,
          0.940563086548488,
          0.940563086548488,
          0.883733055265902,
          0.8795620437956204,
          0.8790406673618353,
          0.8790406673618353,
          0.8790406673618353,
          0.8790406673618353,
          0.8790406673618353,
          0.87851929092805,
          0.8774765380604796,
          0.8774765380604796,
          0.8769551616266945,
          0.8759124087591241,
          0.8759124087591241,
          0.8753910323253389,
          0.8748696558915537,
          0.8748696558915537,
          0.8748696558915537,
          0.8743482794577685,
          0.8743482794577685,
          0.8738269030239834,
          0.8722627737226277,
          0.8722627737226277,
          0.8722627737226277,
          0.870177267987487,
          0.870177267987487,
          0.8654848800834203,
          0.8654848800834203,
          0.864963503649635,
          0.864963503649635,
          0.864963503649635,
          0.8550573514077163,
          0.8550573514077163,
          0.8550573514077163,
          0.8545359749739312,
          0.8545359749739312,
          0.8534932221063608,
          0.8534932221063608,
          0.8534932221063608,
          0.8519290928050052,
          0.85140771637122,
          0.85140771637122,
          0.85140771637122,
          0.8508863399374348,
          0.8482794577685089,
          0.8482794577685089,
          0.8477580813347236,
          0.8446298227320125,
          0.8446298227320125,
          0.8446298227320125,
          0.8435870698644421,
          0.843065693430657,
          0.8415015641293013,
          0.8399374348279458,
          0.8388946819603754,
          0.8383733055265902,
          0.837851929092805,
          0.8180396246089676,
          0.8175182481751825,
          0.8169968717413972,
          0.8159541188738269,
          0.8149113660062565,
          0.8149113660062565,
          0.8117831074035453,
          0.8102189781021898,
          0.7930135557872784,
          0.7924921793534933,
          0.791970802919708,
          0.791970802919708,
          0.7888425443169969,
          0.7888425443169969,
          0.7888425443169969,
          0.7883211678832117,
          0.7883211678832117,
          0.7857142857142857,
          0.7831074035453598,
          0.7805005213764338,
          0.7805005213764338,
          0.7805005213764338,
          0.7794577685088634,
          0.778415015641293,
          0.7778936392075079,
          0.7778936392075079,
          0.7778936392075079,
          0.7778936392075079,
          0.7778936392075079,
          0.7773722627737226,
          0.7768508863399375,
          0.7752867570385819,
          0.7711157455683003,
          0.7705943691345151,
          0.7669447340980188,
          0.7664233576642335,
          0.7627737226277372,
          0.7596454640250261,
          0.7591240875912408,
          0.7570385818561001,
          0.7549530761209593,
          0.7549530761209593,
          0.7539103232533889,
          0.7539103232533889,
          0.7523461939520334,
          0.7518248175182481,
          0.751303441084463,
          0.748696558915537,
          0.7476538060479666,
          0.7476538060479666,
          0.7413972888425443,
          0.7413972888425443,
          0.7413972888425443,
          0.7393117831074035,
          0.7393117831074035,
          0.7356621480709072,
          0.735140771637122,
          0.7320125130344108,
          0.7314911366006257,
          0.7314911366006257,
          0.7309697601668405,
          0.7299270072992701,
          0.7247132429614181,
          0.7241918665276329,
          0.7038581856100105,
          0.7033368091762252,
          0.7022940563086548,
          0.700208550573514,
          0.6835245046923879,
          0.6803962460896767,
          0.6788321167883211,
          0.6788321167883211,
          0.6736183524504692,
          0.6736183524504692,
          0.6730969760166841,
          0.6720542231491137,
          0.6720542231491137,
          0.6710114702815433,
          0.6699687174139729,
          0.662148070907195,
          0.662148070907195,
          0.6616266944734098,
          0.6595411887382691,
          0.6558915537017727,
          0.6553701772679875,
          0.6532846715328468,
          0.6522419186652764,
          0.651199165797706,
          0.6506777893639207,
          0.6506777893639207,
          0.6438998957247133,
          0.6438998957247133,
          0.6402502606882169,
          0.6386861313868614,
          0.6366006256517206,
          0.6345151199165797,
          0.6334723670490093,
          0.6329509906152242,
          0.6319082377476538,
          0.6183524504692388,
          0.6173096976016684,
          0.6011470281543274,
          0.600104275286757,
          0.5959332638164755,
          0.5938477580813347,
          0.5933263816475496,
          0.5881126173096975,
          0.583941605839416,
          0.5823774765380605,
          0.5823774765380605,
          0.5813347236704901,
          0.5808133472367049,
          0.5787278415015641,
          0.578206465067779,
          0.5750782064650678,
          0.5740354535974974,
          0.5714285714285714,
          0.5698644421272159,
          0.5688216892596455,
          0.5688216892596455,
          0.5683003128258602,
          0.5677789363920751,
          0.5677789363920751,
          0.5672575599582899,
          0.5636079249217936,
          0.5630865484880083,
          0.5625651720542232,
          0.5620437956204379,
          0.5615224191866528,
          0.5615224191866528,
          0.5610010427528676,
          0.5604796663190824,
          0.5537017726798749,
          0.5521376433785193,
          0.5516162669447341,
          0.5505735140771637,
          0.5505735140771637,
          0.5474452554744526,
          0.5469238790406674,
          0.545881126173097,
          0.5437956204379562,
          0.540667361835245,
          0.540667361835245,
          0.5391032325338895,
          0.5380604796663191,
          0.5328467153284672,
          0.5318039624608968,
          0.5312825860271115,
          0.5276329509906152,
          0.5260688216892596,
          0.5245046923879041,
          0.5245046923879041,
          0.5245046923879041,
          0.5239833159541188,
          0.5224191866527633,
          0.5172054223149114,
          0.5172054223149114,
          0.5104275286757038,
          0.5099061522419187,
          0.5015641293013556,
          0.4994786235662148,
          0.49687174139728885,
          0.49635036496350365,
          0.4942648592283629,
          0.4942648592283629,
          0.4859228362877998,
          0.4859228362877998,
          0.4854014598540146,
          0.48175182481751827,
          0.4812304483837331,
          0.4796663190823775,
          0.4791449426485923,
          0.47758081334723673,
          0.47340980187695514,
          0.47340980187695514,
          0.47236704900938475,
          0.46506777893639206,
          0.4624608967674661,
          0.4614181438998957,
          0.4499478623566215,
          0.4489051094890511,
          0.4348279457768509,
          0.4343065693430657,
          0.4337851929092805,
          0.4316996871741397,
          0.42752867570385816,
          0.4264859228362878,
          0.4238790406673618,
          0.4238790406673618,
          0.4233576642335766,
          0.42283628779979143,
          0.4165797705943691,
          0.41605839416058393,
          0.41449426485922836,
          0.4113660062565172,
          0.4098018769551616,
          0.40928050052137643,
          0.40771637122002086,
          0.40719499478623566,
          0.4061522419186653,
          0.4040667361835245,
          0.4035453597497393,
          0.40250260688216893,
          0.3988529718456726,
          0.3983315954118874,
          0.3967674661105318,
          0.3962460896767466,
          0.39520333680917624,
          0.3925964546402503,
          0.3905109489051095,
          0.3899895724713243,
          0.3894681960375391,
          0.38894681960375393,
          0.38321167883211676,
          0.3665276329509906,
          0.35662148070907196,
          0.35610010427528677,
          0.3534932221063608,
          0.3529718456725756,
          0.35140771637122004,
          0.3383733055265902,
          0.337851929092805,
          0.3373305526590198,
          0.3362877997914494,
          0.33420229405630864,
          0.3315954118873827,
          0.3295099061522419,
          0.3295099061522419,
          0.32742440041710114,
          0.32742440041710114,
          0.32533889468196037,
          0.31856100104275287,
          0.31856100104275287,
          0.3175182481751825,
          0.31282586027111575,
          0.310740354535975,
          0.3102189781021898,
          0.3096976016684046,
          0.3091762252346194,
          0.2705943691345151,
          0.26955161626694474,
          0.26903023983315955,
          0.26746611053180397,
          0.2653806047966632,
          0.2601668404588113,
          0.2596454640250261,
          0.2523461939520334,
          0.251303441084463,
          0.24504692387904067,
          0.24452554744525548,
          0.2434827945776851,
          0.2424400417101147,
          0.24191866527632952,
          0.24139728884254433,
          0.24035453597497394,
          0.23879040667361837,
          0.23826903023983315,
          0.235140771637122,
          0.23253388946819603,
          0.22888425443169969,
          0.22419186652763295,
          0.22262773722627738,
          0.21480709071949947,
          0.21428571428571427,
          0.20855057351407716,
          0.20802919708029197,
          0.20281543274244004,
          0.20020855057351408,
          0.1996871741397289,
          0.1986444212721585,
          0.1981230448383733,
          0.19760166840458812,
          0.19708029197080293,
          0.19603753910323254,
          0.18821689259645463,
          0.18613138686131386,
          0.1835245046923879,
          0.18196037539103233,
          0.18143899895724713,
          0.17413972888425444,
          0.17205422314911367,
          0.16996871741397288,
          0.16944734098018768,
          0.1689259645464025,
          0.16475495307612095,
          0.1616266944734098,
          0.1611053180396246,
          0.15797705943691345,
          0.15224191866527634,
          0.14754953076120958,
          0.1465067778936392,
          0.14494264859228362,
          0.14285714285714285,
          0.14129301355578727,
          0.13138686131386862,
          0.13086548488008343,
          0.12982273201251304,
          0.12877997914494266,
          0.1256517205422315,
          0.1251303441084463,
          0.12408759124087591,
          0.11887382690302398,
          0.11835245046923878,
          0.11678832116788321,
          0.11574556830031282,
          0.11157455683003129,
          0.11157455683003129,
          0.1105318039624609,
          0.10948905109489052,
          0.10583941605839416,
          0.10531803962460896,
          0.10479666319082377,
          0.0735140771637122,
          0.07247132429614181,
          0.06986444212721585,
          0.06569343065693431,
          0.06256517205422316,
          0.06100104275286757,
          0.05943691345151199,
          0.05787278415015641,
          0.05787278415015641,
          0.05735140771637122,
          0.05683003128258603,
          0.054223149113660066,
          0.05213764337851929,
          0.05057351407716371,
          0.05005213764337852,
          0.03858185610010428,
          0.0370177267987487,
          0.0364963503649635,
          0.03597497393117831,
          0.034932221063607924,
          0.03441084462982273,
          0.03388946819603754,
          0.020855057351407715,
          0.020333680917622523,
          0.018769551616266946,
          0.017205422314911366,
          0.013555787278415016,
          0.013034410844629822,
          0.01251303441084463,
          0.006777893639207508,
          0.006256517205422315,
          0.0036496350364963502,
          0.0026068821689259644,
          0.0020855057351407717,
          0.0010427528675703858
         ],
         "xaxis": "x",
         "y": [
          0.2552908292293358,
          0.2553248136315229,
          0.2555289102051692,
          0.25556295802798135,
          0.25569924010131984,
          0.25586979722518677,
          0.25645484949832775,
          0.2564891624297565,
          0.25655781584582443,
          0.25672961028525515,
          0.25776522791448164,
          0.257799892415277,
          0.2580080753701211,
          0.2581122929850545,
          0.25856487725923927,
          0.25873937103522743,
          0.25880923450789795,
          0.25894907469944617,
          0.26049735018344883,
          0.26056816637216257,
          0.2606035889070147,
          0.2611716621253406,
          0.2612072489439978,
          0.26127845168324926,
          0.26131406761177756,
          0.26289083927591883,
          0.2629268961733644,
          0.265218594355285,
          0.26525529265255293,
          0.2653287197231834,
          0.2654389365826641,
          0.2655124653739612,
          0.2658069883527454,
          0.26591760299625467,
          0.2734274711168164,
          0.27346647646219685,
          0.2735054929376516,
          0.273583559297845,
          0.2738962708958423,
          0.2739354101171763,
          0.27424892703862663,
          0.27486723123295537,
          0.2756188831318365,
          0.2756585576507845,
          0.27577764976958524,
          0.2776972157772622,
          0.2777777777777778,
          0.2778583865351132,
          0.27789870846031056,
          0.277979387429235,
          0.27834302325581395,
          0.2821570649771622,
          0.28219864426760977,
          0.2902834621797787,
          0.2906800242865817,
          0.2938468620530919,
          0.29389195825659914,
          0.29398219220141236,
          0.29411764705882354,
          0.2941628264208909,
          0.29420801966507915,
          0.2942532267977873,
          0.29452476161181174,
          0.2946153846153846,
          0.3148635317329826,
          0.31574608408903543,
          0.31585023915553356,
          0.31621532364597094,
          0.3163197885695408,
          0.3163720469188832,
          0.31647661543546524,
          0.3166859599801555,
          0.31673833939794904,
          0.3168955816647361,
          0.3170004966065221,
          0.31721053503395724,
          0.320180571810734,
          0.32028767352400067,
          0.32039484691316716,
          0.3205020920502092,
          0.3209317915200268,
          0.32103939647946356,
          0.32222783106175334,
          0.3277425979804895,
          0.327798699075659,
          0.3279109589041096,
          0.3283044745414024,
          0.3291509109659677,
          0.32932072226999143,
          0.344796543032049,
          0.3449828859664925,
          0.3451072265273022,
          0.34579270494763453,
          0.3462929475587703,
          0.34635557967082653,
          0.35687663063734626,
          0.35700969425801643,
          0.35907553551296506,
          0.3592105263157895,
          0.3593456186536292,
          0.3597515060240964,
          0.3598192430803992,
          0.3602941176470588,
          0.36043002640513017,
          0.36056603773584905,
          0.3613842662632375,
          0.36186328346903995,
          0.3619318181818182,
          0.3622062168309325,
          0.36265197568389057,
          0.36278981375902697,
          0.3629277566539924,
          0.36299676744628256,
          0.36417397939717666,
          0.3642434649875978,
          0.368106440416506,
          0.36831950607756125,
          0.36860397760185365,
          0.36843122102009274,
          0.36878746857474376,
          0.369716944552152,
          0.3697886368043436,
          0.36986035686578744,
          0.3700756840675335,
          0.3708673667833528,
          0.3712283433910843,
          0.3711781888997079,
          0.3716124000779879,
          0.3717573629803004,
          0.40561821664183867,
          0.40545144804088584,
          0.4055378061767838,
          0.4064034151547492,
          0.40666381888082015,
          0.40675069429609056,
          0.4070115433946131,
          0.4073598630723149,
          0.4079708592243411,
          0.408058294042006,
          0.40928632846087704,
          0.40937432810148355,
          0.4095504409550441,
          0.4101680310211116,
          0.4109648176127779,
          0.4111423018786439,
          0.4113199395117736,
          0.4110654851955911,
          0.41133217993079585,
          0.41108945202512454,
          0.41637401229148374,
          0.41646542261251374,
          0.4165202108963093,
          0.4166117336849044,
          0.4167032967032967,
          0.4173453664979089,
          0.4178052005288673,
          0.41789728895746087,
          0.4191550541915505,
          0.4192477876106195,
          0.4193405620712547,
          0.41943337760070826,
          0.41952623422625634,
          0.41971207087486156,
          0.41989807223576336,
          0.4199911347517731,
          0.42036379769299026,
          0.4212047121582574,
          0.4213920391372026,
          0.4218610863757792,
          0.42160356347438754,
          0.42169748273557583,
          0.4293823796548592,
          0.4300659540595861,
          0.43026166097838453,
          0.4320310715101668,
          0.44046783625730995,
          0.44067399953194475,
          0.4407771535580524,
          0.4408803558885507,
          0.44098360655737706,
          0.44119025304592313,
          0.44170771756978655,
          0.4413145539906103,
          0.4411833763794318,
          0.44128698919680603,
          0.4413906506929763,
          0.44125939849624063,
          0.44136310223266745,
          0.4415706560075241,
          0.4417784050811574,
          0.44188235294117645,
          0.44175100023534947,
          0.44206311822892136,
          0.44300212414444184,
          0.44415522953147185,
          0.4443655303030303,
          0.4457373545476134,
          0.4456057007125891,
          0.4458174904942966,
          0.4462416745956232,
          0.4464540694907187,
          0.4783173201765775,
          0.4789391575663027,
          0.4791883454734651,
          0.4795626139026295,
          0.47981245115915605,
          0.4799374674309536,
          0.4800625488663018,
          0.47979139504563234,
          0.47991653625456443,
          0.47988505747126436,
          0.47987454260324097,
          0.4801255230125523,
          0.4806282722513089,
          0.4808800419067575,
          0.48112218143681174,
          0.4812483608707055,
          0.48137460650577124,
          0.4815009183941223,
          0.4827676927124441,
          0.4863358981162112,
          0.4865941067162198,
          0.48685258964143424,
          0.4867162592986185,
          0.4869750132908028,
          0.48723404255319147,
          0.49073327961321517,
          0.4912610916913149,
          0.4911242603550296,
          0.49165320409262253,
          0.49231598813696414,
          0.49258160237388726,
          0.49271451699946034,
          0.4935135135135135,
          0.5178977272727273,
          0.5196693272519954,
          0.520720205773078,
          0.5208690680388793,
          0.5210180154418073,
          0.5207439198855508,
          0.5308931185944363,
          0.5310486233157586,
          0.5312042191620275,
          0.5319835680751174,
          0.5322959483264826,
          0.532608695652174,
          0.5329218106995884,
          0.5323719835197175,
          0.5322343244038857,
          0.5327240566037735,
          0.534773601657295,
          0.5346769413159455,
          0.534994068801898,
          0.6401057401812689,
          0.6390151515151515,
          0.6413084823126665,
          0.6417967263037686,
          0.642041127189642,
          0.6422857142857142,
          0.6524767801857585,
          0.6525948876839659,
          0.6528316524437549,
          0.6530849825378346,
          0.6529503105590062,
          0.6526806526806527,
          0.6557377049180327,
          0.6561156701836655,
          0.6559812353401094,
          0.6562377786468517,
          0.6570086139389193,
          0.6568742655699178,
          0.6571316614420063,
          0.6569972559780478,
          0.6589208349743993,
          0.6620498614958449,
          0.6660031847133758,
          0.6654704944178629,
          0.6662674650698602,
          0.6650641025641025,
          0.6655974338412189,
          0.6654632972322503,
          0.6659975913287837,
          0.6668006430868167,
          0.6821963394342762,
          0.6827643630308077,
          0.6836181742392664,
          0.6837713808927827,
          0.6863484087102177,
          0.6863731656184486,
          0.6875262494750105,
          0.6878151260504202,
          0.6885798567214496,
          0.6887389287220582,
          0.6904862579281184,
          0.6913632514817951,
          0.6947637292464879,
          0.6950021358393849,
          0.6952991452991453,
          0.6963597430406853,
          0.6982758620689655,
          0.702819956616052,
          0.7049608355091384,
          0.7047038327526133,
          0.7045751633986929,
          0.7054195804195804,
          0.7062691801841298,
          0.7060114085125054,
          0.7058823529411765,
          0.706684256816183,
          0.751796837565884,
          0.7527604416706674,
          0.7544535387578238,
          0.7571359458151911,
          0.7572674418604651,
          0.7576345128453709,
          0.7569275644141954,
          0.7565725413826679,
          0.7574701195219123,
          0.7573492775286498,
          0.7595,
          0.759879939969985,
          0.7599196383726771,
          0.7603015075376884,
          0.7606837606837606,
          0.7605633802816901,
          0.7659574468085106,
          0.7653631284916201,
          0.8044991965720407,
          0.8039742212674543,
          0.8044062332079527,
          0.8052716514254976,
          0.8050619278406032,
          0.8048517520215633,
          0.8056155507559395,
          0.8091106290672451,
          0.8099891422366993,
          0.8108695652173913,
          0.811310494834149,
          0.8112078346028292,
          0.8111050626020686,
          0.8112384069830878,
          0.8144273127753304,
          0.814773980154355,
          0.8140564471499724,
          0.814404432132964,
          0.8284258210645526,
          0.8359150889271372,
          0.835820895522388,
          0.8354430379746836,
          0.8350634371395617,
          0.836027713625866,
          0.8358381502890173,
          0.8368055555555556,
          0.8409090909090909,
          0.8447568834212068,
          0.8451612903225807,
          0.8447058823529412,
          0.8445229681978799,
          0.846517119244392,
          0.845422116527943,
          0.8464285714285714,
          0.8484486873508353,
          0.8480861244019139,
          0.8485936564931179,
          0.8479567307692307,
          0.8483754512635379,
          0.8483383685800604,
          0.8482466747279322,
          0.8503030303030303,
          0.851244687310261,
          0.851063829787234,
          0.8501529051987767,
          0.8500611995104039,
          0.881201044386423,
          0.8811234487263226,
          0.880967952910399,
          0.880655737704918,
          0.8822341857335128,
          0.8847457627118644,
          0.8851121685927941,
          0.8857142857142857,
          0.8873626373626373,
          0.8879725085910652,
          0.8878954607977991,
          0.8883528600964852,
          0.8889655172413793,
          0.8888121546961326,
          0.8886583679114799,
          0.8874912648497554,
          0.8887333799860042,
          0.8892782060266293,
          0.8952583156404812,
          0.899856938483548,
          0.8997852541159628,
          0.8994974874371859,
          0.899352983465133,
          0.8992080633549316,
          0.899135446685879,
          0.8997837058399423,
          0.9001457725947521,
          0.9014598540145985,
          0.900953778429934,
          0.9007352941176471,
          0.9004424778761062,
          0.9001479289940828,
          0.9,
          0.8999258710155671,
          0.8997772828507795,
          0.9019011406844106,
          0.904507257448434,
          0.9078740157480315,
          0.9077287066246057,
          0.910031847133758,
          0.9097444089456869,
          0.9096722621902478,
          0.9089443996776793,
          0.9127954360228199,
          0.9133278822567457,
          0.9140752864157119,
          0.9139344262295082,
          0.9138638228055783,
          0.9135802469135802,
          0.9157720891824938,
          0.9161129568106312,
          0.9159733777038269,
          0.9156223893065998,
          0.9177162048698573,
          0.9175777964676198,
          0.9183501683501684,
          0.9182813816343723,
          0.918212478920742,
          0.9189873417721519,
          0.918918918918919,
          0.9184367034834324,
          0.919931856899489,
          0.9198635976129582,
          0.9197952218430034,
          0.9197267292912041,
          0.9205128205128205,
          0.9204448246364414,
          0.9203767123287672,
          0.9210754553339116,
          0.923278116826504,
          0.9232111692844677,
          0.9230769230769231,
          0.9238845144356955,
          0.9234828496042217,
          0.9234154929577465,
          0.9232804232804233,
          0.9230088495575222,
          0.9225978647686833,
          0.9258928571428572,
          0.9256938227394808,
          0.9255605381165919,
          0.9265639165911151,
          0.9264305177111717,
          0.9263636363636364,
          0.9258920402561757,
          0.9265381083562901,
          0.9263351749539595,
          0.9280442804428044,
          0.9289012003693444,
          0.9288354898336414,
          0.9286376274328082,
          0.9279700654817586,
          0.92970946579194,
          0.929724596391263,
          0.9296577946768061,
          0.9312681510164569,
          0.9310009718172984,
          0.9306640625,
          0.9305962854349951,
          0.930323846908734,
          0.931237721021611,
          0.9338677354709419,
          0.9366834170854271,
          0.9366197183098591,
          0.9361702127659575,
          0.936105476673428,
          0.9359104781281791,
          0.9358452138492872,
          0.9356486210418795,
          0.9351184346035015,
          0.9380165289256198,
          0.937888198757764,
          0.9379600420609885,
          0.9376321353065539,
          0.9375,
          0.9360086767895879,
          0.9368879216539717,
          0.9370786516853933,
          0.937007874015748,
          0.9369369369369369,
          0.9366515837104072,
          0.9360730593607306,
          0.9359267734553776,
          0.9387990762124712,
          0.9398843930635838,
          0.9398148148148148,
          0.9397450753186558,
          0.9422169811320755,
          0.9421487603305785,
          0.9419431279620853,
          0.9415274463007159,
          0.9413173652694611,
          0.9412470023980816,
          0.941034897713598,
          0.9409638554216867,
          0.9430992736077481,
          0.9428223844282239,
          0.9427527405602923,
          0.9426129426129426,
          0.9432799013563502,
          0.9432098765432099,
          0.942998760842627,
          0.9429280397022333,
          0.9427860696517413,
          0.9424280350438048,
          0.9421383647798742,
          0.9420654911838791,
          0.9419924337957125,
          0.9419191919191919,
          0.941101152368758,
          0.9385847797062751,
          0.9408528198074277,
          0.940771349862259,
          0.9403606102635229,
          0.9402777777777778,
          0.9413407821229051,
          0.9392185238784371,
          0.9404934687953556,
          0.940406976744186,
          0.9402332361516035,
          0.9398826979472141,
          0.9394387001477105,
          0.9390787518573551,
          0.9418777943368107,
          0.9415292353823088,
          0.9443609022556391,
          0.9440242057488654,
          0.9458204334365325,
          0.9487577639751553,
          0.9485981308411215,
          0.9478672985781991,
          0.9536,
          0.9565916398713826,
          0.9565217391304348,
          0.9564516129032258,
          0.9505494505494505,
          0.9503676470588235,
          0.9502762430939227,
          0.95,
          0.9531835205992509,
          0.9522900763358778,
          0.9521988527724665,
          0.9508840864440079,
          0.9506903353057199,
          0.9533468559837728,
          0.9532520325203252,
          0.9550102249488752,
          0.9548254620123203,
          0.9547325102880658,
          0.954639175257732,
          0.9544513457556936,
          0.9541666666666667,
          0.954070981210856,
          0.9595744680851064,
          0.9591397849462365,
          0.9585152838427947,
          0.9576837416481069,
          0.9573991031390134,
          0.9559164733178654,
          0.9558139534883721,
          0.954653937947494,
          0.9545454545454546,
          0.9557739557739557,
          0.9552238805970149,
          0.9551122194513716,
          0.9548872180451128,
          0.9547738693467337,
          0.9546599496221663,
          0.9569620253164557,
          0.9567430025445293,
          0.955026455026455,
          0.9545454545454546,
          0.9591280653950953,
          0.9587912087912088,
          0.9586776859504132,
          0.962536023054755,
          0.9620991253644315,
          0.9616519174041298,
          0.9615384615384616,
          0.9614243323442137,
          0.9604863221884499,
          0.9597523219814241,
          0.9596273291925466,
          0.9588607594936709,
          0.9636963696369637,
          0.9625850340136054,
          0.9623287671232876,
          0.9619377162629758,
          0.9614035087719298,
          0.9609929078014184,
          0.9655172413793104,
          0.9653846153846154,
          0.9651162790697675,
          0.96484375,
          0.964,
          0.963855421686747,
          0.9635627530364372,
          0.9620253164556962,
          0.961864406779661,
          0.9613733905579399,
          0.961038961038961,
          0.9596412556053812,
          0.963963963963964,
          0.9636363636363636,
          0.963302752293578,
          0.9620853080568721,
          0.9619047619047619,
          0.9617224880382775,
          0.9527027027027027,
          0.952054794520548,
          0.950354609929078,
          0.9473684210526315,
          0.9448818897637795,
          0.9435483870967742,
          0.9421487603305785,
          0.940677966101695,
          0.9487179487179487,
          0.9482758620689655,
          0.9478260869565217,
          0.9454545454545454,
          0.9433962264150944,
          0.941747572815534,
          0.9411764705882353,
          0.9736842105263158,
          1,
          1,
          1,
          1,
          1,
          1,
          1,
          1,
          1,
          1,
          1,
          1,
          1,
          1,
          1,
          1,
          1,
          1,
          1
         ],
         "yaxis": "y"
        }
       ],
       "layout": {
        "autosize": true,
        "legend": {
         "tracegroupgap": 0
        },
        "margin": {
         "t": 60
        },
        "template": {
         "data": {
          "bar": [
           {
            "error_x": {
             "color": "#2a3f5f"
            },
            "error_y": {
             "color": "#2a3f5f"
            },
            "marker": {
             "line": {
              "color": "#E5ECF6",
              "width": 0.5
             },
             "pattern": {
              "fillmode": "overlay",
              "size": 10,
              "solidity": 0.2
             }
            },
            "type": "bar"
           }
          ],
          "barpolar": [
           {
            "marker": {
             "line": {
              "color": "#E5ECF6",
              "width": 0.5
             },
             "pattern": {
              "fillmode": "overlay",
              "size": 10,
              "solidity": 0.2
             }
            },
            "type": "barpolar"
           }
          ],
          "carpet": [
           {
            "aaxis": {
             "endlinecolor": "#2a3f5f",
             "gridcolor": "white",
             "linecolor": "white",
             "minorgridcolor": "white",
             "startlinecolor": "#2a3f5f"
            },
            "baxis": {
             "endlinecolor": "#2a3f5f",
             "gridcolor": "white",
             "linecolor": "white",
             "minorgridcolor": "white",
             "startlinecolor": "#2a3f5f"
            },
            "type": "carpet"
           }
          ],
          "choropleth": [
           {
            "colorbar": {
             "outlinewidth": 0,
             "ticks": ""
            },
            "type": "choropleth"
           }
          ],
          "contour": [
           {
            "colorbar": {
             "outlinewidth": 0,
             "ticks": ""
            },
            "colorscale": [
             [
              0,
              "#0d0887"
             ],
             [
              0.1111111111111111,
              "#46039f"
             ],
             [
              0.2222222222222222,
              "#7201a8"
             ],
             [
              0.3333333333333333,
              "#9c179e"
             ],
             [
              0.4444444444444444,
              "#bd3786"
             ],
             [
              0.5555555555555556,
              "#d8576b"
             ],
             [
              0.6666666666666666,
              "#ed7953"
             ],
             [
              0.7777777777777778,
              "#fb9f3a"
             ],
             [
              0.8888888888888888,
              "#fdca26"
             ],
             [
              1,
              "#f0f921"
             ]
            ],
            "type": "contour"
           }
          ],
          "contourcarpet": [
           {
            "colorbar": {
             "outlinewidth": 0,
             "ticks": ""
            },
            "type": "contourcarpet"
           }
          ],
          "heatmap": [
           {
            "colorbar": {
             "outlinewidth": 0,
             "ticks": ""
            },
            "colorscale": [
             [
              0,
              "#0d0887"
             ],
             [
              0.1111111111111111,
              "#46039f"
             ],
             [
              0.2222222222222222,
              "#7201a8"
             ],
             [
              0.3333333333333333,
              "#9c179e"
             ],
             [
              0.4444444444444444,
              "#bd3786"
             ],
             [
              0.5555555555555556,
              "#d8576b"
             ],
             [
              0.6666666666666666,
              "#ed7953"
             ],
             [
              0.7777777777777778,
              "#fb9f3a"
             ],
             [
              0.8888888888888888,
              "#fdca26"
             ],
             [
              1,
              "#f0f921"
             ]
            ],
            "type": "heatmap"
           }
          ],
          "heatmapgl": [
           {
            "colorbar": {
             "outlinewidth": 0,
             "ticks": ""
            },
            "colorscale": [
             [
              0,
              "#0d0887"
             ],
             [
              0.1111111111111111,
              "#46039f"
             ],
             [
              0.2222222222222222,
              "#7201a8"
             ],
             [
              0.3333333333333333,
              "#9c179e"
             ],
             [
              0.4444444444444444,
              "#bd3786"
             ],
             [
              0.5555555555555556,
              "#d8576b"
             ],
             [
              0.6666666666666666,
              "#ed7953"
             ],
             [
              0.7777777777777778,
              "#fb9f3a"
             ],
             [
              0.8888888888888888,
              "#fdca26"
             ],
             [
              1,
              "#f0f921"
             ]
            ],
            "type": "heatmapgl"
           }
          ],
          "histogram": [
           {
            "marker": {
             "pattern": {
              "fillmode": "overlay",
              "size": 10,
              "solidity": 0.2
             }
            },
            "type": "histogram"
           }
          ],
          "histogram2d": [
           {
            "colorbar": {
             "outlinewidth": 0,
             "ticks": ""
            },
            "colorscale": [
             [
              0,
              "#0d0887"
             ],
             [
              0.1111111111111111,
              "#46039f"
             ],
             [
              0.2222222222222222,
              "#7201a8"
             ],
             [
              0.3333333333333333,
              "#9c179e"
             ],
             [
              0.4444444444444444,
              "#bd3786"
             ],
             [
              0.5555555555555556,
              "#d8576b"
             ],
             [
              0.6666666666666666,
              "#ed7953"
             ],
             [
              0.7777777777777778,
              "#fb9f3a"
             ],
             [
              0.8888888888888888,
              "#fdca26"
             ],
             [
              1,
              "#f0f921"
             ]
            ],
            "type": "histogram2d"
           }
          ],
          "histogram2dcontour": [
           {
            "colorbar": {
             "outlinewidth": 0,
             "ticks": ""
            },
            "colorscale": [
             [
              0,
              "#0d0887"
             ],
             [
              0.1111111111111111,
              "#46039f"
             ],
             [
              0.2222222222222222,
              "#7201a8"
             ],
             [
              0.3333333333333333,
              "#9c179e"
             ],
             [
              0.4444444444444444,
              "#bd3786"
             ],
             [
              0.5555555555555556,
              "#d8576b"
             ],
             [
              0.6666666666666666,
              "#ed7953"
             ],
             [
              0.7777777777777778,
              "#fb9f3a"
             ],
             [
              0.8888888888888888,
              "#fdca26"
             ],
             [
              1,
              "#f0f921"
             ]
            ],
            "type": "histogram2dcontour"
           }
          ],
          "mesh3d": [
           {
            "colorbar": {
             "outlinewidth": 0,
             "ticks": ""
            },
            "type": "mesh3d"
           }
          ],
          "parcoords": [
           {
            "line": {
             "colorbar": {
              "outlinewidth": 0,
              "ticks": ""
             }
            },
            "type": "parcoords"
           }
          ],
          "pie": [
           {
            "automargin": true,
            "type": "pie"
           }
          ],
          "scatter": [
           {
            "fillpattern": {
             "fillmode": "overlay",
             "size": 10,
             "solidity": 0.2
            },
            "type": "scatter"
           }
          ],
          "scatter3d": [
           {
            "line": {
             "colorbar": {
              "outlinewidth": 0,
              "ticks": ""
             }
            },
            "marker": {
             "colorbar": {
              "outlinewidth": 0,
              "ticks": ""
             }
            },
            "type": "scatter3d"
           }
          ],
          "scattercarpet": [
           {
            "marker": {
             "colorbar": {
              "outlinewidth": 0,
              "ticks": ""
             }
            },
            "type": "scattercarpet"
           }
          ],
          "scattergeo": [
           {
            "marker": {
             "colorbar": {
              "outlinewidth": 0,
              "ticks": ""
             }
            },
            "type": "scattergeo"
           }
          ],
          "scattergl": [
           {
            "marker": {
             "colorbar": {
              "outlinewidth": 0,
              "ticks": ""
             }
            },
            "type": "scattergl"
           }
          ],
          "scattermapbox": [
           {
            "marker": {
             "colorbar": {
              "outlinewidth": 0,
              "ticks": ""
             }
            },
            "type": "scattermapbox"
           }
          ],
          "scatterpolar": [
           {
            "marker": {
             "colorbar": {
              "outlinewidth": 0,
              "ticks": ""
             }
            },
            "type": "scatterpolar"
           }
          ],
          "scatterpolargl": [
           {
            "marker": {
             "colorbar": {
              "outlinewidth": 0,
              "ticks": ""
             }
            },
            "type": "scatterpolargl"
           }
          ],
          "scatterternary": [
           {
            "marker": {
             "colorbar": {
              "outlinewidth": 0,
              "ticks": ""
             }
            },
            "type": "scatterternary"
           }
          ],
          "surface": [
           {
            "colorbar": {
             "outlinewidth": 0,
             "ticks": ""
            },
            "colorscale": [
             [
              0,
              "#0d0887"
             ],
             [
              0.1111111111111111,
              "#46039f"
             ],
             [
              0.2222222222222222,
              "#7201a8"
             ],
             [
              0.3333333333333333,
              "#9c179e"
             ],
             [
              0.4444444444444444,
              "#bd3786"
             ],
             [
              0.5555555555555556,
              "#d8576b"
             ],
             [
              0.6666666666666666,
              "#ed7953"
             ],
             [
              0.7777777777777778,
              "#fb9f3a"
             ],
             [
              0.8888888888888888,
              "#fdca26"
             ],
             [
              1,
              "#f0f921"
             ]
            ],
            "type": "surface"
           }
          ],
          "table": [
           {
            "cells": {
             "fill": {
              "color": "#EBF0F8"
             },
             "line": {
              "color": "white"
             }
            },
            "header": {
             "fill": {
              "color": "#C8D4E3"
             },
             "line": {
              "color": "white"
             }
            },
            "type": "table"
           }
          ]
         },
         "layout": {
          "annotationdefaults": {
           "arrowcolor": "#2a3f5f",
           "arrowhead": 0,
           "arrowwidth": 1
          },
          "autotypenumbers": "strict",
          "coloraxis": {
           "colorbar": {
            "outlinewidth": 0,
            "ticks": ""
           }
          },
          "colorscale": {
           "diverging": [
            [
             0,
             "#8e0152"
            ],
            [
             0.1,
             "#c51b7d"
            ],
            [
             0.2,
             "#de77ae"
            ],
            [
             0.3,
             "#f1b6da"
            ],
            [
             0.4,
             "#fde0ef"
            ],
            [
             0.5,
             "#f7f7f7"
            ],
            [
             0.6,
             "#e6f5d0"
            ],
            [
             0.7,
             "#b8e186"
            ],
            [
             0.8,
             "#7fbc41"
            ],
            [
             0.9,
             "#4d9221"
            ],
            [
             1,
             "#276419"
            ]
           ],
           "sequential": [
            [
             0,
             "#0d0887"
            ],
            [
             0.1111111111111111,
             "#46039f"
            ],
            [
             0.2222222222222222,
             "#7201a8"
            ],
            [
             0.3333333333333333,
             "#9c179e"
            ],
            [
             0.4444444444444444,
             "#bd3786"
            ],
            [
             0.5555555555555556,
             "#d8576b"
            ],
            [
             0.6666666666666666,
             "#ed7953"
            ],
            [
             0.7777777777777778,
             "#fb9f3a"
            ],
            [
             0.8888888888888888,
             "#fdca26"
            ],
            [
             1,
             "#f0f921"
            ]
           ],
           "sequentialminus": [
            [
             0,
             "#0d0887"
            ],
            [
             0.1111111111111111,
             "#46039f"
            ],
            [
             0.2222222222222222,
             "#7201a8"
            ],
            [
             0.3333333333333333,
             "#9c179e"
            ],
            [
             0.4444444444444444,
             "#bd3786"
            ],
            [
             0.5555555555555556,
             "#d8576b"
            ],
            [
             0.6666666666666666,
             "#ed7953"
            ],
            [
             0.7777777777777778,
             "#fb9f3a"
            ],
            [
             0.8888888888888888,
             "#fdca26"
            ],
            [
             1,
             "#f0f921"
            ]
           ]
          },
          "colorway": [
           "#636efa",
           "#EF553B",
           "#00cc96",
           "#ab63fa",
           "#FFA15A",
           "#19d3f3",
           "#FF6692",
           "#B6E880",
           "#FF97FF",
           "#FECB52"
          ],
          "font": {
           "color": "#2a3f5f"
          },
          "geo": {
           "bgcolor": "white",
           "lakecolor": "white",
           "landcolor": "#E5ECF6",
           "showlakes": true,
           "showland": true,
           "subunitcolor": "white"
          },
          "hoverlabel": {
           "align": "left"
          },
          "hovermode": "closest",
          "mapbox": {
           "style": "light"
          },
          "paper_bgcolor": "white",
          "plot_bgcolor": "#E5ECF6",
          "polar": {
           "angularaxis": {
            "gridcolor": "white",
            "linecolor": "white",
            "ticks": ""
           },
           "bgcolor": "#E5ECF6",
           "radialaxis": {
            "gridcolor": "white",
            "linecolor": "white",
            "ticks": ""
           }
          },
          "scene": {
           "xaxis": {
            "backgroundcolor": "#E5ECF6",
            "gridcolor": "white",
            "gridwidth": 2,
            "linecolor": "white",
            "showbackground": true,
            "ticks": "",
            "zerolinecolor": "white"
           },
           "yaxis": {
            "backgroundcolor": "#E5ECF6",
            "gridcolor": "white",
            "gridwidth": 2,
            "linecolor": "white",
            "showbackground": true,
            "ticks": "",
            "zerolinecolor": "white"
           },
           "zaxis": {
            "backgroundcolor": "#E5ECF6",
            "gridcolor": "white",
            "gridwidth": 2,
            "linecolor": "white",
            "showbackground": true,
            "ticks": "",
            "zerolinecolor": "white"
           }
          },
          "shapedefaults": {
           "line": {
            "color": "#2a3f5f"
           }
          },
          "ternary": {
           "aaxis": {
            "gridcolor": "white",
            "linecolor": "white",
            "ticks": ""
           },
           "baxis": {
            "gridcolor": "white",
            "linecolor": "white",
            "ticks": ""
           },
           "bgcolor": "#E5ECF6",
           "caxis": {
            "gridcolor": "white",
            "linecolor": "white",
            "ticks": ""
           }
          },
          "title": {
           "x": 0.05
          },
          "xaxis": {
           "automargin": true,
           "gridcolor": "white",
           "linecolor": "white",
           "ticks": "",
           "title": {
            "standoff": 15
           },
           "zerolinecolor": "white",
           "zerolinewidth": 2
          },
          "yaxis": {
           "automargin": true,
           "gridcolor": "white",
           "linecolor": "white",
           "ticks": "",
           "title": {
            "standoff": 15
           },
           "zerolinecolor": "white",
           "zerolinewidth": 2
          }
         }
        },
        "xaxis": {
         "anchor": "y",
         "autorange": true,
         "domain": [
          0,
          1
         ],
         "range": [
          0.0010427528675703858,
          1
         ],
         "title": {
          "text": "Recall"
         },
         "type": "linear"
        },
        "yaxis": {
         "anchor": "x",
         "autorange": true,
         "domain": [
          0,
          1
         ],
         "range": [
          0.2139180975198545,
          1.0413727317094814
         ],
         "title": {
          "text": "Precision"
         },
         "type": "linear"
        }
       }
      },
      "image/png": "[encoded data removed]",
      "text/html": [
       "<div>                            <div id=\"11554e10-0cc6-4964-97cd-897cff593003\" class=\"plotly-graph-div\" style=\"height:525px; width:100%;\"></div>            <script type=\"text/javascript\">                require([\"plotly\"], function(Plotly) {                    window.PLOTLYENV=window.PLOTLYENV || {};                                    if (document.getElementById(\"11554e10-0cc6-4964-97cd-897cff593003\")) {                    Plotly.newPlot(                        \"11554e10-0cc6-4964-97cd-897cff593003\",                        [{\"hovertemplate\":\"<b>%{hovertext}</b><br><br>x=%{x}<br>y=%{y}<extra></extra>\",\"hovertext\":[4.019090561993282e-05,8.173912724262369e-05,9.33725298785072e-05,0.00012176967382057214,0.00013593352570292737,0.00015528900120584526,0.00016367182734855243,0.00018988797065655822,0.00020249961431644345,0.00023133119366467575,0.00024381793591497937,0.0002828678543732807,0.0003157642043154546,0.00036071640113713145,0.00041176889532259527,0.0004323911807305904,0.00047035121096741664,0.00047038189053585304,0.0004782837451014144,0.00048128380689772544,0.0005372985882852174,0.0006133275735170028,0.00065520808491403,0.0006593171825822559,0.0007006112079490515,0.0007123778838954481,0.0007820513608055252,0.0008454679202328377,0.0008989259753753595,0.0009561617808975543,0.0009686310291210745,0.0010921813838836011,0.0011105171227371049,0.0011646501497429664,0.0012628820591810365,0.0013194318040697863,0.001368730431692635,0.0014238183014831881,0.001447807889467789,0.0015209582026417371,0.001521326396436856,0.0016262564851030102,0.001632098753529616,0.0016344040857377501,0.0018150996674075458,0.001947692007897728,0.001982662364515405,0.0020913560292312077,0.0022176406886592935,0.002264229279031292,0.002264776995877925,0.002325615673643255,0.0023658822451053363,0.0024055496102699686,0.0027017246331208795,0.0027188103486648968,0.002763959151605264,0.002898896494176669,0.0029400407810195295,0.002950895010255699,0.00312319966321041,0.0032930497163066856,0.0033430813385794326,0.003520600046278178,0.0035274703335682186,0.003579558423773545,0.003618962951768728,0.004029405899225004,0.004077236877872914,0.004357685801481234,0.004409329851779901,0.004513392435541161,0.004513534541492336,0.004525014906639126,0.004594361932329832,0.004595470711886945,0.004671217966755439,0.00467234520728774,0.004862161704340315,0.004898069046618548,0.005216177604808417,0.005246143957983077,0.005479613837750675,0.0055711957808493775,0.005627959642220198,0.005878321107706242,0.0060621412464004956,0.006331694423284539,0.006830934285475534,0.006944943417452292,0.007226415105281944,0.007253463939876884,0.007617706559380125,0.007619539392131103,0.00814165041297154,0.008181916178229059,0.008695213294390573,0.008749303345753525,0.009336528160747978,0.009403763886235535,0.009422006340608061,0.00991177599296792,0.010419361955676242,0.010450608314738392,0.010612343762300325,0.010767919524514462,0.010788779496071882,0.011306635330714573,0.011309345611005859,0.011380244792634947,0.011565418557075591,0.011566526144732876,0.012252731166135325,0.012358686400852555,0.012899150075217527,0.013241868386775468,0.013551969120359157,0.013776597131575889,0.013972378149555416,0.014695173791083772,0.01472352853409067,0.014830048101009075,0.015526959126485397,0.01572846287185041,0.016692102198668086,0.01679174267447495,0.016860253756413954,0.017526127050255948,0.018145163439218893,0.01878480573200152,0.01911629228994898,0.019972198067892414,0.020056527837794207,0.020498938038952665,0.02066683767671713,0.020750825638929903,0.02083628195340158,0.021402720014296887,0.021579676968676898,0.02177798803051601,0.0227303655278618,0.022735751186510975,0.023025700584973417,0.023103565110132514,0.023166852537459114,0.024032560950244086,0.024666148329245182,0.02588810872454984,0.02588975438316291,0.026047995425371354,0.02631342984818029,0.026423812654198117,0.027002803291811477,0.028013146346922764,0.02821517747844238,0.028470554669698965,0.029466235163892206,0.029818561333439013,0.030235642580994697,0.031007814127956033,0.031554878681665545,0.031989691212314285,0.0322425762629869,0.032917338366759676,0.033490726874382516,0.03349857466604246,0.033921018258564126,0.03570576624866245,0.03592179137734757,0.036811506974227706,0.03808745389412114,0.038317316002704875,0.03860233119270257,0.04116898009967735,0.04233070543391972,0.042583752837636164,0.0425850423275516,0.042679300735314125,0.043317978892784784,0.04362849263593975,0.044049495299274474,0.04471280108846073,0.04495546870823514,0.045609516136124004,0.04570794971144542,0.04573921432635269,0.04606302762135695,0.046922878208268085,0.04835637536001074,0.049202273434422295,0.04998787171546743,0.05191483710702327,0.052279975791621906,0.05387031479058602,0.05482772189179561,0.058158358309707746,0.05883295800316712,0.059078070480974576,0.06057243003358317,0.060917778757756905,0.06178310431472586,0.062150536606463413,0.06319412595565024,0.06664893063492679,0.06665299008905427,0.06686828851137633,0.0670432328041892,0.07003082618104793,0.07236776864261277,0.07452515378809972,0.07542459955100339,0.075687456300243,0.07792090067585675,0.0791744265807392,0.07921399712733043,0.07952816839016758,0.07954591614832211,0.08323922605540167,0.08394396983339417,0.0842442802028508,0.08508213174819725,0.08517519873842602,0.0855390477166979,0.08951812680378048,0.09309187173118935,0.09313190718793013,0.09616002648578154,0.09926308291261322,0.09927174556432472,0.10087752615629854,0.10675410446443569,0.10872810258321963,0.11360490824230653,0.11811347146316849,0.11986064916024566,0.12012051634959196,0.1233017187861659,0.12908810372094348,0.12979306037149405,0.13269452280817054,0.13342370199644843,0.13536259218102256,0.14103694449020004,0.14230602490002758,0.1427579881653566,0.14321088933692927,0.1439802207926838,0.1443524901892339,0.1503381707725839,0.15725115993831013,0.158081999754589,0.1598387707771263,0.16634176435640058,0.16828709523834148,0.16866590870924608,0.1690248776647567,0.16933040893010998,0.16955411349770447,0.17021217962596594,0.17661852065764008,0.17788102082601212,0.18309676176283762,0.18504456144614484,0.1857835829574346,0.1859898399884077,0.1981926316240638,0.20386139345633075,0.20677060619402096,0.20951766007268072,0.2096574589862061,0.210230636128184,0.21565588059443544,0.21626267957550166,0.21731952547353017,0.2175185416031519,0.21835961859314756,0.22016782790601805,0.2208379945517117,0.22145666367633912,0.22845786843403387,0.22847494597996895,0.23162159918602424,0.23732382405141544,0.24035379812884153,0.24711300890335489,0.2503273258642654,0.25034550774128705,0.25369432690168886,0.25395246306962826,0.25615765023992537,0.26463458598132905,0.2658538080131822,0.27425736082579416,0.27613912334621205,0.2789325089045675,0.2797173888779936,0.28061270302649527,0.283087713193991,0.2913283003466328,0.2921058681331454,0.2926150204777001,0.2926350748671732,0.2960970613017956,0.2986620452426083,0.3024169093742319,0.31126380390490466,0.31484808204017367,0.3159021580527224,0.31674536924234303,0.32036340814508396,0.3217412924229086,0.3322265498964251,0.33533152522993054,0.33718551211483666,0.33826665633337855,0.34242723294895666,0.34901333911332,0.35280963690436423,0.36117855893863177,0.3650329815745283,0.3656260693765544,0.3675397582841695,0.37289959434918146,0.3758722241359576,0.38070906921720016,0.38816345202693237,0.39241395844919796,0.39392211819132006,0.39790831922695186,0.40672598339632765,0.4075676308759432,0.4075833873204971,0.407591024129233,0.4090948169169525,0.40937759735687085,0.4119033838907974,0.4131298970837014,0.4204556105310594,0.42756665536319666,0.43113464981584393,0.43689805656316855,0.44100270554473814,0.4454027861290481,0.453196903608012,0.4553671326608554,0.45720150128334147,0.4684368173058427,0.4698574951368751,0.47290973349320076,0.4729338832442859,0.477364199566301,0.4785827858307258,0.489459406946551,0.49097205379308656,0.49194652135431005,0.49733312750227254,0.49751333781871276,0.4986257045044093,0.5061760909852336,0.5077318736605646,0.5193298591860606,0.5194482103123924,0.5251596380748029,0.5336298501528024,0.5351864341395947,0.5361562248365301,0.5380723996438427,0.5396190908220988,0.5402986373805382,0.5416899200123729,0.5447240147250314,0.5458247760907446,0.5546879975361495,0.5588010987388169,0.5603589641514625,0.5633809485390773,0.5677696462311103,0.5718551824683527,0.5831951584575589,0.5850148901348394,0.5881856418903684,0.5890554021306097,0.5950285543378446,0.595794159606017,0.597038693014158,0.5999745378770596,0.603039879227219,0.6045364804950502,0.6051827559109892,0.6104912125622677,0.6151577078861756,0.6169141324098005,0.6190958230278432,0.6221633344596927,0.6228964202631503,0.624364791186726,0.630266757959755,0.6317233977795615,0.6344194122340916,0.6352917993937054,0.635884252893911,0.6377903238962203,0.6416317602693097,0.6425588937290323,0.6439944603227535,0.6470014034363932,0.6550376861184795,0.6578062944043738,0.6609423969134468,0.6618156062244457,0.6621205855073984,0.6655358617253729,0.6669414770235338,0.6739016397748757,0.6758012668641648,0.6758224930121529,0.6774403086577352,0.6794632913134516,0.6822872762131346,0.6833341641346761,0.6873305653020032,0.6901109294624446,0.6935536884687223,0.6948817004390183,0.7042634801976273,0.7050532627981184,0.7104106355714476,0.715117005707434,0.7176955243343691,0.7218436926879076,0.7223569929243828,0.7256872978843982,0.7266580502714649,0.7281242289156502,0.7285766968522057,0.7300981235800483,0.7343433615360717,0.737878306808814,0.7404617685280993,0.7438612530699421,0.7438797119448672,0.7450637886260999,0.746644387069186,0.7489504801688318,0.7497842782954339,0.7498672836649264,0.7513093239016677,0.7529804472484474,0.7564432990222817,0.758924777834855,0.759500866849678,0.760448906934864,0.7627426918387161,0.7660973582305411,0.7761370336165908,0.7772221195229596,0.779225238307464,0.780762799087893,0.7820791984440448,0.7845509576662866,0.7855723232917702,0.7890899680269075,0.7911213327216908,0.7932896673340143,0.7978457347644438,0.7984075360784469,0.8006060100799876,0.8018657660018026,0.8020822162528115,0.8068230080492751,0.8095376212538415,0.8122765069646132,0.816582806462131,0.8170583358682648,0.8190659777267398,0.8195364920011065,0.819643080127529,0.8239565361335229,0.8273813256726852,0.8279052506676585,0.8284792998253162,0.8288040208559804,0.8293664552717717,0.8298375436553926,0.8299175258381044,0.8312180357970086,0.8353432908358448,0.8377978657741492,0.8386462099240488,0.8402105779880861,0.8424355905918047,0.8432728411170818,0.8443589993140789,0.8448884471632183,0.8457065361556481,0.8473912605227714,0.8507955865897693,0.8513088498028157,0.8551559708496091,0.8552107708985313,0.855545276903008,0.8558611158713929,0.8577388273641814,0.8615395302742409,0.8622918618282669,0.8642590744313412,0.8652715019567552,0.8652827958783769,0.8689127535665375,0.8697526608082079,0.8708806364701827,0.8709303852010837,0.8727923982158325,0.8745744903308049,0.8779893862409291,0.880980034927865,0.881420523380412,0.8820046150142182,0.8837281951338082,0.8838022449817041,0.8855478307660615,0.8869983635785886,0.8895649167997945,0.8902892081362731,0.8942770545970824,0.8963157166648389,0.8978544615363941,0.8979551258214223,0.8979640030490107,0.8994810295366044,0.9007900846986522,0.9023086785911423,0.9051123775410862,0.9053826803082066,0.9080469690182381,0.9095249834590059,0.9098367811092435,0.9108871838671322,0.9123877854674884,0.9157840689132596,0.9168799788673689,0.916887362139298,0.917601075229215,0.9181819372311916,0.918615243273945,0.9210672742309549,0.9210743175766696,0.9230795179161434,0.9233341674157662,0.9240101674643495,0.9255981947281637,0.9267378883964317,0.9267679254697053,0.9278910970038406,0.9279475404627748,0.9282362796265506,0.9291327288356589,0.9302203088499794,0.9302223617882553,0.9305589534111306,0.9311617123395836,0.9314198642580411,0.934536064644718,0.9358016304926815,0.9364170769403392,0.9374022538542064,0.937630655043392,0.9389203668872108,0.9389984830670657,0.9412229676397791,0.9418617699080666,0.9424429553980266,0.943562890056075,0.9435628900560752,0.943898565275412,0.9447746577434585,0.9463506091835796,0.947208730152035,0.9479110690002033,0.9481702696073024,0.9486170891553374,0.9492538323264633,0.9496315106288986,0.9523182903596451,0.9525719493189477,0.9529048846978129,0.9533513637540276,0.9561482627103751,0.9564098204327378,0.956548540910125,0.9581611550172668,0.9583850891700263,0.9612663938946442,0.9616352405867673,0.9638124479587085,0.9644303090820844,0.9654952673038785,0.9676604520151986,0.968177983637458,0.9685759796434326,0.9692822999720182,0.9697746877706895,0.9714316016901662,0.971563260800236,0.9718905364884435,0.9725525701234004,0.973328011849448,0.9735758072743343,0.9736653616194906,0.974573286274316,0.9749938419918519,0.9754172440081708,0.9758419328594,0.9763614089156873,0.9765735257233918,0.9770776397152358,0.978436533379272,0.9791709059757209,0.9795081359515105,0.9799503966061406,0.9806421251928847,0.9809559989077191,0.9810737294199556,0.9819384956391879,0.9827888683706336,0.9830758987801247,0.9840087138858657,0.9840966002957605,0.9844969164813927,0.9848439024019618,0.9854225393106664,0.9862281896590304,0.9872165146896795,0.9872724197952271,0.9874945351276115,0.9883429302375377,0.9885334010730552,0.9891643799886976,0.9892690020812926,0.9895028588310699,0.9898185703112177,0.9905449763227432,0.9921452842225895,0.9921822513639087,0.9923169460091761,0.993292938960187,0.9936336839740404,0.9949148426887142,0.9954880484474471,0.9961863828447165,0.9969043984182052,0.9974369598157861,0.9974932662640301,0.9976323865627369,0.9983160091183139,0.9989931406436735],\"legendgroup\":\"\",\"line\":{\"color\":\"#636efa\",\"dash\":\"solid\"},\"marker\":{\"symbol\":\"circle\"},\"mode\":\"lines\",\"name\":\"\",\"orientation\":\"v\",\"showlegend\":false,\"x\":[1.0,1.0,1.0,1.0,1.0,1.0,0.9994786235662148,0.9994786235662148,0.9994786235662148,0.9994786235662148,0.9994786235662148,0.9994786235662148,0.9994786235662148,0.9994786235662148,0.9994786235662148,0.9994786235662148,0.9994786235662148,0.9994786235662148,0.9994786235662148,0.9994786235662148,0.9994786235662148,0.9994786235662148,0.9994786235662148,0.9994786235662148,0.9994786235662148,0.9994786235662148,0.9994786235662148,0.9994786235662148,0.9994786235662148,0.9994786235662148,0.9994786235662148,0.9994786235662148,0.9994786235662148,0.9994786235662148,0.9994786235662148,0.9994786235662148,0.9994786235662148,0.9994786235662148,0.9994786235662148,0.9994786235662148,0.9994786235662148,0.9984358706986444,0.9984358706986444,0.9984358706986444,0.9984358706986444,0.9984358706986444,0.9984358706986444,0.9984358706986444,0.9984358706986444,0.9984358706986444,0.9984358706986444,0.9984358706986444,0.9984358706986444,0.9984358706986444,0.9984358706986444,0.9984358706986444,0.9984358706986444,0.9984358706986444,0.9984358706986444,0.9984358706986444,0.9984358706986444,0.9984358706986444,0.9984358706986444,0.9984358706986444,0.9984358706986444,0.9984358706986444,0.9984358706986444,0.9984358706986444,0.9984358706986444,0.9984358706986444,0.9984358706986444,0.9984358706986444,0.9984358706986444,0.9984358706986444,0.9984358706986444,0.9984358706986444,0.9984358706986444,0.9984358706986444,0.9984358706986444,0.9984358706986444,0.9984358706986444,0.9984358706986444,0.9984358706986444,0.9984358706986444,0.9984358706986444,0.9984358706986444,0.9984358706986444,0.9984358706986444,0.9984358706986444,0.9984358706986444,0.9984358706986444,0.9984358706986444,0.9984358706986444,0.9984358706986444,0.9984358706986444,0.9984358706986444,0.9984358706986444,0.9963503649635036,0.9963503649635036,0.9963503649635036,0.9963503649635036,0.9963503649635036,0.9963503649635036,0.9963503649635036,0.9963503649635036,0.9963503649635036,0.9963503649635036,0.9963503649635036,0.9963503649635036,0.9953076120959332,0.9953076120959332,0.9953076120959332,0.9953076120959332,0.9953076120959332,0.9953076120959332,0.9953076120959332,0.9953076120959332,0.9953076120959332,0.9942648592283628,0.9942648592283628,0.9942648592283628,0.9942648592283628,0.9942648592283628,0.9942648592283628,0.9942648592283628,0.9942648592283628,0.9937434827945777,0.9937434827945777,0.9937434827945777,0.9937434827945777,0.9927007299270073,0.9927007299270073,0.9927007299270073,0.9927007299270073,0.9927007299270073,0.9927007299270073,0.9927007299270073,0.9927007299270073,0.9927007299270073,0.9927007299270073,0.9927007299270073,0.9927007299270073,0.9927007299270073,0.9927007299270073,0.9927007299270073,0.9927007299270073,0.9916579770594369,0.9916579770594369,0.9895724713242962,0.9890510948905109,0.9890510948905109,0.9885297184567258,0.9885297184567258,0.9885297184567258,0.9885297184567258,0.9885297184567258,0.9885297184567258,0.9880083420229405,0.9880083420229405,0.9880083420229405,0.9880083420229405,0.9880083420229405,0.9880083420229405,0.9880083420229405,0.9880083420229405,0.9880083420229405,0.9880083420229405,0.9880083420229405,0.9880083420229405,0.9869655891553701,0.9869655891553701,0.9859228362877998,0.9859228362877998,0.9859228362877998,0.9859228362877998,0.9817518248175182,0.9817518248175182,0.9817518248175182,0.9817518248175182,0.9817518248175182,0.9817518248175182,0.9817518248175182,0.9801876955161627,0.9796663190823774,0.9796663190823774,0.9796663190823774,0.9791449426485923,0.9791449426485923,0.9791449426485923,0.9791449426485923,0.9791449426485923,0.9786235662148071,0.9786235662148071,0.9786235662148071,0.9786235662148071,0.9786235662148071,0.9786235662148071,0.9781021897810219,0.9781021897810219,0.9781021897810219,0.9781021897810219,0.9603753910323254,0.9603753910323254,0.9603753910323254,0.9603753910323254,0.9603753910323254,0.9603753910323254,0.9603753910323254,0.959332638164755,0.959332638164755,0.9577685088633994,0.9572471324296142,0.9572471324296142,0.9572471324296142,0.9572471324296142,0.956725755995829,0.956725755995829,0.956725755995829,0.956725755995829,0.956725755995829,0.9556830031282586,0.9556830031282586,0.9556830031282586,0.9551616266944735,0.9551616266944735,0.9551616266944735,0.9525547445255474,0.9525547445255474,0.9520333680917622,0.9520333680917622,0.9520333680917622,0.9520333680917622,0.9520333680917622,0.9520333680917622,0.9504692387904067,0.9504692387904067,0.9499478623566214,0.9499478623566214,0.9499478623566214,0.948905109489051,0.9452554744525548,0.9452554744525548,0.9452554744525548,0.9452554744525548,0.9452554744525548,0.9452554744525548,0.9452554744525548,0.943169968717414,0.9426485922836287,0.9421272158498436,0.9421272158498436,0.940563086548488,0.940563086548488,0.883733055265902,0.8795620437956204,0.8790406673618353,0.8790406673618353,0.8790406673618353,0.8790406673618353,0.8790406673618353,0.87851929092805,0.8774765380604796,0.8774765380604796,0.8769551616266945,0.8759124087591241,0.8759124087591241,0.8753910323253389,0.8748696558915537,0.8748696558915537,0.8748696558915537,0.8743482794577685,0.8743482794577685,0.8738269030239834,0.8722627737226277,0.8722627737226277,0.8722627737226277,0.870177267987487,0.870177267987487,0.8654848800834203,0.8654848800834203,0.864963503649635,0.864963503649635,0.864963503649635,0.8550573514077163,0.8550573514077163,0.8550573514077163,0.8545359749739312,0.8545359749739312,0.8534932221063608,0.8534932221063608,0.8534932221063608,0.8519290928050052,0.85140771637122,0.85140771637122,0.85140771637122,0.8508863399374348,0.8482794577685089,0.8482794577685089,0.8477580813347236,0.8446298227320125,0.8446298227320125,0.8446298227320125,0.8435870698644421,0.843065693430657,0.8415015641293013,0.8399374348279458,0.8388946819603754,0.8383733055265902,0.837851929092805,0.8180396246089676,0.8175182481751825,0.8169968717413972,0.8159541188738269,0.8149113660062565,0.8149113660062565,0.8117831074035453,0.8102189781021898,0.7930135557872784,0.7924921793534933,0.791970802919708,0.791970802919708,0.7888425443169969,0.7888425443169969,0.7888425443169969,0.7883211678832117,0.7883211678832117,0.7857142857142857,0.7831074035453598,0.7805005213764338,0.7805005213764338,0.7805005213764338,0.7794577685088634,0.778415015641293,0.7778936392075079,0.7778936392075079,0.7778936392075079,0.7778936392075079,0.7778936392075079,0.7773722627737226,0.7768508863399375,0.7752867570385819,0.7711157455683003,0.7705943691345151,0.7669447340980188,0.7664233576642335,0.7627737226277372,0.7596454640250261,0.7591240875912408,0.7570385818561001,0.7549530761209593,0.7549530761209593,0.7539103232533889,0.7539103232533889,0.7523461939520334,0.7518248175182481,0.751303441084463,0.748696558915537,0.7476538060479666,0.7476538060479666,0.7413972888425443,0.7413972888425443,0.7413972888425443,0.7393117831074035,0.7393117831074035,0.7356621480709072,0.735140771637122,0.7320125130344108,0.7314911366006257,0.7314911366006257,0.7309697601668405,0.7299270072992701,0.7247132429614181,0.7241918665276329,0.7038581856100105,0.7033368091762252,0.7022940563086548,0.700208550573514,0.6835245046923879,0.6803962460896767,0.6788321167883211,0.6788321167883211,0.6736183524504692,0.6736183524504692,0.6730969760166841,0.6720542231491137,0.6720542231491137,0.6710114702815433,0.6699687174139729,0.662148070907195,0.662148070907195,0.6616266944734098,0.6595411887382691,0.6558915537017727,0.6553701772679875,0.6532846715328468,0.6522419186652764,0.651199165797706,0.6506777893639207,0.6506777893639207,0.6438998957247133,0.6438998957247133,0.6402502606882169,0.6386861313868614,0.6366006256517206,0.6345151199165797,0.6334723670490093,0.6329509906152242,0.6319082377476538,0.6183524504692388,0.6173096976016684,0.6011470281543274,0.600104275286757,0.5959332638164755,0.5938477580813347,0.5933263816475496,0.5881126173096975,0.583941605839416,0.5823774765380605,0.5823774765380605,0.5813347236704901,0.5808133472367049,0.5787278415015641,0.578206465067779,0.5750782064650678,0.5740354535974974,0.5714285714285714,0.5698644421272159,0.5688216892596455,0.5688216892596455,0.5683003128258602,0.5677789363920751,0.5677789363920751,0.5672575599582899,0.5636079249217936,0.5630865484880083,0.5625651720542232,0.5620437956204379,0.5615224191866528,0.5615224191866528,0.5610010427528676,0.5604796663190824,0.5537017726798749,0.5521376433785193,0.5516162669447341,0.5505735140771637,0.5505735140771637,0.5474452554744526,0.5469238790406674,0.545881126173097,0.5437956204379562,0.540667361835245,0.540667361835245,0.5391032325338895,0.5380604796663191,0.5328467153284672,0.5318039624608968,0.5312825860271115,0.5276329509906152,0.5260688216892596,0.5245046923879041,0.5245046923879041,0.5245046923879041,0.5239833159541188,0.5224191866527633,0.5172054223149114,0.5172054223149114,0.5104275286757038,0.5099061522419187,0.5015641293013556,0.4994786235662148,0.49687174139728885,0.49635036496350365,0.4942648592283629,0.4942648592283629,0.4859228362877998,0.4859228362877998,0.4854014598540146,0.48175182481751827,0.4812304483837331,0.4796663190823775,0.4791449426485923,0.47758081334723673,0.47340980187695514,0.47340980187695514,0.47236704900938475,0.46506777893639206,0.4624608967674661,0.4614181438998957,0.4499478623566215,0.4489051094890511,0.4348279457768509,0.4343065693430657,0.4337851929092805,0.4316996871741397,0.42752867570385816,0.4264859228362878,0.4238790406673618,0.4238790406673618,0.4233576642335766,0.42283628779979143,0.4165797705943691,0.41605839416058393,0.41449426485922836,0.4113660062565172,0.4098018769551616,0.40928050052137643,0.40771637122002086,0.40719499478623566,0.4061522419186653,0.4040667361835245,0.4035453597497393,0.40250260688216893,0.3988529718456726,0.3983315954118874,0.3967674661105318,0.3962460896767466,0.39520333680917624,0.3925964546402503,0.3905109489051095,0.3899895724713243,0.3894681960375391,0.38894681960375393,0.38321167883211676,0.3665276329509906,0.35662148070907196,0.35610010427528677,0.3534932221063608,0.3529718456725756,0.35140771637122004,0.3383733055265902,0.337851929092805,0.3373305526590198,0.3362877997914494,0.33420229405630864,0.3315954118873827,0.3295099061522419,0.3295099061522419,0.32742440041710114,0.32742440041710114,0.32533889468196037,0.31856100104275287,0.31856100104275287,0.3175182481751825,0.31282586027111575,0.310740354535975,0.3102189781021898,0.3096976016684046,0.3091762252346194,0.2705943691345151,0.26955161626694474,0.26903023983315955,0.26746611053180397,0.2653806047966632,0.2601668404588113,0.2596454640250261,0.2523461939520334,0.251303441084463,0.24504692387904067,0.24452554744525548,0.2434827945776851,0.2424400417101147,0.24191866527632952,0.24139728884254433,0.24035453597497394,0.23879040667361837,0.23826903023983315,0.235140771637122,0.23253388946819603,0.22888425443169969,0.22419186652763295,0.22262773722627738,0.21480709071949947,0.21428571428571427,0.20855057351407716,0.20802919708029197,0.20281543274244004,0.20020855057351408,0.1996871741397289,0.1986444212721585,0.1981230448383733,0.19760166840458812,0.19708029197080293,0.19603753910323254,0.18821689259645463,0.18613138686131386,0.1835245046923879,0.18196037539103233,0.18143899895724713,0.17413972888425444,0.17205422314911367,0.16996871741397288,0.16944734098018768,0.1689259645464025,0.16475495307612095,0.1616266944734098,0.1611053180396246,0.15797705943691345,0.15224191866527634,0.14754953076120958,0.1465067778936392,0.14494264859228362,0.14285714285714285,0.14129301355578727,0.13138686131386862,0.13086548488008343,0.12982273201251304,0.12877997914494266,0.1256517205422315,0.1251303441084463,0.12408759124087591,0.11887382690302398,0.11835245046923878,0.11678832116788321,0.11574556830031282,0.11157455683003129,0.11157455683003129,0.1105318039624609,0.10948905109489052,0.10583941605839416,0.10531803962460896,0.10479666319082377,0.0735140771637122,0.07247132429614181,0.06986444212721585,0.06569343065693431,0.06256517205422316,0.06100104275286757,0.05943691345151199,0.05787278415015641,0.05787278415015641,0.05735140771637122,0.05683003128258603,0.054223149113660066,0.05213764337851929,0.05057351407716371,0.05005213764337852,0.03858185610010428,0.0370177267987487,0.0364963503649635,0.03597497393117831,0.034932221063607924,0.03441084462982273,0.03388946819603754,0.020855057351407715,0.020333680917622523,0.018769551616266946,0.017205422314911366,0.013555787278415016,0.013034410844629822,0.01251303441084463,0.006777893639207508,0.006256517205422315,0.0036496350364963502,0.0026068821689259644,0.0020855057351407717,0.0010427528675703858],\"xaxis\":\"x\",\"y\":[0.2552908292293358,0.2553248136315229,0.2555289102051692,0.25556295802798135,0.25569924010131984,0.25586979722518677,0.25645484949832775,0.2564891624297565,0.25655781584582443,0.25672961028525515,0.25776522791448164,0.257799892415277,0.2580080753701211,0.2581122929850545,0.25856487725923927,0.25873937103522743,0.25880923450789795,0.25894907469944617,0.26049735018344883,0.26056816637216257,0.2606035889070147,0.2611716621253406,0.2612072489439978,0.26127845168324926,0.26131406761177756,0.26289083927591883,0.2629268961733644,0.265218594355285,0.26525529265255293,0.2653287197231834,0.2654389365826641,0.2655124653739612,0.2658069883527454,0.26591760299625467,0.2734274711168164,0.27346647646219685,0.2735054929376516,0.273583559297845,0.2738962708958423,0.2739354101171763,0.27424892703862663,0.27486723123295537,0.2756188831318365,0.2756585576507845,0.27577764976958524,0.2776972157772622,0.2777777777777778,0.2778583865351132,0.27789870846031056,0.277979387429235,0.27834302325581395,0.2821570649771622,0.28219864426760977,0.2902834621797787,0.2906800242865817,0.2938468620530919,0.29389195825659914,0.29398219220141236,0.29411764705882354,0.2941628264208909,0.29420801966507915,0.2942532267977873,0.29452476161181174,0.2946153846153846,0.3148635317329826,0.31574608408903543,0.31585023915553356,0.31621532364597094,0.3163197885695408,0.3163720469188832,0.31647661543546524,0.3166859599801555,0.31673833939794904,0.3168955816647361,0.3170004966065221,0.31721053503395724,0.320180571810734,0.32028767352400067,0.32039484691316716,0.3205020920502092,0.3209317915200268,0.32103939647946356,0.32222783106175334,0.3277425979804895,0.327798699075659,0.3279109589041096,0.3283044745414024,0.3291509109659677,0.32932072226999143,0.344796543032049,0.3449828859664925,0.3451072265273022,0.34579270494763453,0.3462929475587703,0.34635557967082653,0.35687663063734626,0.35700969425801643,0.35907553551296506,0.3592105263157895,0.3593456186536292,0.3597515060240964,0.3598192430803992,0.3602941176470588,0.36043002640513017,0.36056603773584905,0.3613842662632375,0.36186328346903995,0.3619318181818182,0.3622062168309325,0.36265197568389057,0.36278981375902697,0.3629277566539924,0.36299676744628256,0.36417397939717666,0.3642434649875978,0.368106440416506,0.36831950607756125,0.36860397760185365,0.36843122102009274,0.36878746857474376,0.369716944552152,0.3697886368043436,0.36986035686578744,0.3700756840675335,0.3708673667833528,0.3712283433910843,0.3711781888997079,0.3716124000779879,0.3717573629803004,0.40561821664183867,0.40545144804088584,0.4055378061767838,0.4064034151547492,0.40666381888082015,0.40675069429609056,0.4070115433946131,0.4073598630723149,0.4079708592243411,0.408058294042006,0.40928632846087704,0.40937432810148355,0.4095504409550441,0.4101680310211116,0.4109648176127779,0.4111423018786439,0.4113199395117736,0.4110654851955911,0.41133217993079585,0.41108945202512454,0.41637401229148374,0.41646542261251374,0.4165202108963093,0.4166117336849044,0.4167032967032967,0.4173453664979089,0.4178052005288673,0.41789728895746087,0.4191550541915505,0.4192477876106195,0.4193405620712547,0.41943337760070826,0.41952623422625634,0.41971207087486156,0.41989807223576336,0.4199911347517731,0.42036379769299026,0.4212047121582574,0.4213920391372026,0.4218610863757792,0.42160356347438754,0.42169748273557583,0.4293823796548592,0.4300659540595861,0.43026166097838453,0.4320310715101668,0.44046783625730995,0.44067399953194475,0.4407771535580524,0.4408803558885507,0.44098360655737706,0.44119025304592313,0.44170771756978655,0.4413145539906103,0.4411833763794318,0.44128698919680603,0.4413906506929763,0.44125939849624063,0.44136310223266745,0.4415706560075241,0.4417784050811574,0.44188235294117645,0.44175100023534947,0.44206311822892136,0.44300212414444184,0.44415522953147185,0.4443655303030303,0.4457373545476134,0.4456057007125891,0.4458174904942966,0.4462416745956232,0.4464540694907187,0.4783173201765775,0.4789391575663027,0.4791883454734651,0.4795626139026295,0.47981245115915605,0.4799374674309536,0.4800625488663018,0.47979139504563234,0.47991653625456443,0.47988505747126436,0.47987454260324097,0.4801255230125523,0.4806282722513089,0.4808800419067575,0.48112218143681174,0.4812483608707055,0.48137460650577124,0.4815009183941223,0.4827676927124441,0.4863358981162112,0.4865941067162198,0.48685258964143424,0.4867162592986185,0.4869750132908028,0.48723404255319147,0.49073327961321517,0.4912610916913149,0.4911242603550296,0.49165320409262253,0.49231598813696414,0.49258160237388726,0.49271451699946034,0.4935135135135135,0.5178977272727273,0.5196693272519954,0.520720205773078,0.5208690680388793,0.5210180154418073,0.5207439198855508,0.5308931185944363,0.5310486233157586,0.5312042191620275,0.5319835680751174,0.5322959483264826,0.532608695652174,0.5329218106995884,0.5323719835197175,0.5322343244038857,0.5327240566037735,0.534773601657295,0.5346769413159455,0.534994068801898,0.6401057401812689,0.6390151515151515,0.6413084823126665,0.6417967263037686,0.642041127189642,0.6422857142857142,0.6524767801857585,0.6525948876839659,0.6528316524437549,0.6530849825378346,0.6529503105590062,0.6526806526806527,0.6557377049180327,0.6561156701836655,0.6559812353401094,0.6562377786468517,0.6570086139389193,0.6568742655699178,0.6571316614420063,0.6569972559780478,0.6589208349743993,0.6620498614958449,0.6660031847133758,0.6654704944178629,0.6662674650698602,0.6650641025641025,0.6655974338412189,0.6654632972322503,0.6659975913287837,0.6668006430868167,0.6821963394342762,0.6827643630308077,0.6836181742392664,0.6837713808927827,0.6863484087102177,0.6863731656184486,0.6875262494750105,0.6878151260504202,0.6885798567214496,0.6887389287220582,0.6904862579281184,0.6913632514817951,0.6947637292464879,0.6950021358393849,0.6952991452991453,0.6963597430406853,0.6982758620689655,0.702819956616052,0.7049608355091384,0.7047038327526133,0.7045751633986929,0.7054195804195804,0.7062691801841298,0.7060114085125054,0.7058823529411765,0.706684256816183,0.751796837565884,0.7527604416706674,0.7544535387578238,0.7571359458151911,0.7572674418604651,0.7576345128453709,0.7569275644141954,0.7565725413826679,0.7574701195219123,0.7573492775286498,0.7595,0.759879939969985,0.7599196383726771,0.7603015075376884,0.7606837606837606,0.7605633802816901,0.7659574468085106,0.7653631284916201,0.8044991965720407,0.8039742212674543,0.8044062332079527,0.8052716514254976,0.8050619278406032,0.8048517520215633,0.8056155507559395,0.8091106290672451,0.8099891422366993,0.8108695652173913,0.811310494834149,0.8112078346028292,0.8111050626020686,0.8112384069830878,0.8144273127753304,0.814773980154355,0.8140564471499724,0.814404432132964,0.8284258210645526,0.8359150889271372,0.835820895522388,0.8354430379746836,0.8350634371395617,0.836027713625866,0.8358381502890173,0.8368055555555556,0.8409090909090909,0.8447568834212068,0.8451612903225807,0.8447058823529412,0.8445229681978799,0.846517119244392,0.845422116527943,0.8464285714285714,0.8484486873508353,0.8480861244019139,0.8485936564931179,0.8479567307692307,0.8483754512635379,0.8483383685800604,0.8482466747279322,0.8503030303030303,0.851244687310261,0.851063829787234,0.8501529051987767,0.8500611995104039,0.881201044386423,0.8811234487263226,0.880967952910399,0.880655737704918,0.8822341857335128,0.8847457627118644,0.8851121685927941,0.8857142857142857,0.8873626373626373,0.8879725085910652,0.8878954607977991,0.8883528600964852,0.8889655172413793,0.8888121546961326,0.8886583679114799,0.8874912648497554,0.8887333799860042,0.8892782060266293,0.8952583156404812,0.899856938483548,0.8997852541159628,0.8994974874371859,0.899352983465133,0.8992080633549316,0.899135446685879,0.8997837058399423,0.9001457725947521,0.9014598540145985,0.900953778429934,0.9007352941176471,0.9004424778761062,0.9001479289940828,0.9,0.8999258710155671,0.8997772828507795,0.9019011406844106,0.904507257448434,0.9078740157480315,0.9077287066246057,0.910031847133758,0.9097444089456869,0.9096722621902478,0.9089443996776793,0.9127954360228199,0.9133278822567457,0.9140752864157119,0.9139344262295082,0.9138638228055783,0.9135802469135802,0.9157720891824938,0.9161129568106312,0.9159733777038269,0.9156223893065998,0.9177162048698573,0.9175777964676198,0.9183501683501684,0.9182813816343723,0.918212478920742,0.9189873417721519,0.918918918918919,0.9184367034834324,0.919931856899489,0.9198635976129582,0.9197952218430034,0.9197267292912041,0.9205128205128205,0.9204448246364414,0.9203767123287672,0.9210754553339116,0.923278116826504,0.9232111692844677,0.9230769230769231,0.9238845144356955,0.9234828496042217,0.9234154929577465,0.9232804232804233,0.9230088495575222,0.9225978647686833,0.9258928571428572,0.9256938227394808,0.9255605381165919,0.9265639165911151,0.9264305177111717,0.9263636363636364,0.9258920402561757,0.9265381083562901,0.9263351749539595,0.9280442804428044,0.9289012003693444,0.9288354898336414,0.9286376274328082,0.9279700654817586,0.92970946579194,0.929724596391263,0.9296577946768061,0.9312681510164569,0.9310009718172984,0.9306640625,0.9305962854349951,0.930323846908734,0.931237721021611,0.9338677354709419,0.9366834170854271,0.9366197183098591,0.9361702127659575,0.936105476673428,0.9359104781281791,0.9358452138492872,0.9356486210418795,0.9351184346035015,0.9380165289256198,0.937888198757764,0.9379600420609885,0.9376321353065539,0.9375,0.9360086767895879,0.9368879216539717,0.9370786516853933,0.937007874015748,0.9369369369369369,0.9366515837104072,0.9360730593607306,0.9359267734553776,0.9387990762124712,0.9398843930635838,0.9398148148148148,0.9397450753186558,0.9422169811320755,0.9421487603305785,0.9419431279620853,0.9415274463007159,0.9413173652694611,0.9412470023980816,0.941034897713598,0.9409638554216867,0.9430992736077481,0.9428223844282239,0.9427527405602923,0.9426129426129426,0.9432799013563502,0.9432098765432099,0.942998760842627,0.9429280397022333,0.9427860696517413,0.9424280350438048,0.9421383647798742,0.9420654911838791,0.9419924337957125,0.9419191919191919,0.941101152368758,0.9385847797062751,0.9408528198074277,0.940771349862259,0.9403606102635229,0.9402777777777778,0.9413407821229051,0.9392185238784371,0.9404934687953556,0.940406976744186,0.9402332361516035,0.9398826979472141,0.9394387001477105,0.9390787518573551,0.9418777943368107,0.9415292353823088,0.9443609022556391,0.9440242057488654,0.9458204334365325,0.9487577639751553,0.9485981308411215,0.9478672985781991,0.9536,0.9565916398713826,0.9565217391304348,0.9564516129032258,0.9505494505494505,0.9503676470588235,0.9502762430939227,0.95,0.9531835205992509,0.9522900763358778,0.9521988527724665,0.9508840864440079,0.9506903353057199,0.9533468559837728,0.9532520325203252,0.9550102249488752,0.9548254620123203,0.9547325102880658,0.954639175257732,0.9544513457556936,0.9541666666666667,0.954070981210856,0.9595744680851064,0.9591397849462365,0.9585152838427947,0.9576837416481069,0.9573991031390134,0.9559164733178654,0.9558139534883721,0.954653937947494,0.9545454545454546,0.9557739557739557,0.9552238805970149,0.9551122194513716,0.9548872180451128,0.9547738693467337,0.9546599496221663,0.9569620253164557,0.9567430025445293,0.955026455026455,0.9545454545454546,0.9591280653950953,0.9587912087912088,0.9586776859504132,0.962536023054755,0.9620991253644315,0.9616519174041298,0.9615384615384616,0.9614243323442137,0.9604863221884499,0.9597523219814241,0.9596273291925466,0.9588607594936709,0.9636963696369637,0.9625850340136054,0.9623287671232876,0.9619377162629758,0.9614035087719298,0.9609929078014184,0.9655172413793104,0.9653846153846154,0.9651162790697675,0.96484375,0.964,0.963855421686747,0.9635627530364372,0.9620253164556962,0.961864406779661,0.9613733905579399,0.961038961038961,0.9596412556053812,0.963963963963964,0.9636363636363636,0.963302752293578,0.9620853080568721,0.9619047619047619,0.9617224880382775,0.9527027027027027,0.952054794520548,0.950354609929078,0.9473684210526315,0.9448818897637795,0.9435483870967742,0.9421487603305785,0.940677966101695,0.9487179487179487,0.9482758620689655,0.9478260869565217,0.9454545454545454,0.9433962264150944,0.941747572815534,0.9411764705882353,0.9736842105263158,1.0,1.0,1.0,1.0,1.0,1.0,1.0,1.0,1.0,1.0,1.0,1.0,1.0,1.0,1.0,1.0,1.0,1.0,1.0],\"yaxis\":\"y\",\"type\":\"scatter\"}],                        {\"template\":{\"data\":{\"histogram2dcontour\":[{\"type\":\"histogram2dcontour\",\"colorbar\":{\"outlinewidth\":0,\"ticks\":\"\"},\"colorscale\":[[0.0,\"#0d0887\"],[0.1111111111111111,\"#46039f\"],[0.2222222222222222,\"#7201a8\"],[0.3333333333333333,\"#9c179e\"],[0.4444444444444444,\"#bd3786\"],[0.5555555555555556,\"#d8576b\"],[0.6666666666666666,\"#ed7953\"],[0.7777777777777778,\"#fb9f3a\"],[0.8888888888888888,\"#fdca26\"],[1.0,\"#f0f921\"]]}],\"choropleth\":[{\"type\":\"choropleth\",\"colorbar\":{\"outlinewidth\":0,\"ticks\":\"\"}}],\"histogram2d\":[{\"type\":\"histogram2d\",\"colorbar\":{\"outlinewidth\":0,\"ticks\":\"\"},\"colorscale\":[[0.0,\"#0d0887\"],[0.1111111111111111,\"#46039f\"],[0.2222222222222222,\"#7201a8\"],[0.3333333333333333,\"#9c179e\"],[0.4444444444444444,\"#bd3786\"],[0.5555555555555556,\"#d8576b\"],[0.6666666666666666,\"#ed7953\"],[0.7777777777777778,\"#fb9f3a\"],[0.8888888888888888,\"#fdca26\"],[1.0,\"#f0f921\"]]}],\"heatmap\":[{\"type\":\"heatmap\",\"colorbar\":{\"outlinewidth\":0,\"ticks\":\"\"},\"colorscale\":[[0.0,\"#0d0887\"],[0.1111111111111111,\"#46039f\"],[0.2222222222222222,\"#7201a8\"],[0.3333333333333333,\"#9c179e\"],[0.4444444444444444,\"#bd3786\"],[0.5555555555555556,\"#d8576b\"],[0.6666666666666666,\"#ed7953\"],[0.7777777777777778,\"#fb9f3a\"],[0.8888888888888888,\"#fdca26\"],[1.0,\"#f0f921\"]]}],\"heatmapgl\":[{\"type\":\"heatmapgl\",\"colorbar\":{\"outlinewidth\":0,\"ticks\":\"\"},\"colorscale\":[[0.0,\"#0d0887\"],[0.1111111111111111,\"#46039f\"],[0.2222222222222222,\"#7201a8\"],[0.3333333333333333,\"#9c179e\"],[0.4444444444444444,\"#bd3786\"],[0.5555555555555556,\"#d8576b\"],[0.6666666666666666,\"#ed7953\"],[0.7777777777777778,\"#fb9f3a\"],[0.8888888888888888,\"#fdca26\"],[1.0,\"#f0f921\"]]}],\"contourcarpet\":[{\"type\":\"contourcarpet\",\"colorbar\":{\"outlinewidth\":0,\"ticks\":\"\"}}],\"contour\":[{\"type\":\"contour\",\"colorbar\":{\"outlinewidth\":0,\"ticks\":\"\"},\"colorscale\":[[0.0,\"#0d0887\"],[0.1111111111111111,\"#46039f\"],[0.2222222222222222,\"#7201a8\"],[0.3333333333333333,\"#9c179e\"],[0.4444444444444444,\"#bd3786\"],[0.5555555555555556,\"#d8576b\"],[0.6666666666666666,\"#ed7953\"],[0.7777777777777778,\"#fb9f3a\"],[0.8888888888888888,\"#fdca26\"],[1.0,\"#f0f921\"]]}],\"surface\":[{\"type\":\"surface\",\"colorbar\":{\"outlinewidth\":0,\"ticks\":\"\"},\"colorscale\":[[0.0,\"#0d0887\"],[0.1111111111111111,\"#46039f\"],[0.2222222222222222,\"#7201a8\"],[0.3333333333333333,\"#9c179e\"],[0.4444444444444444,\"#bd3786\"],[0.5555555555555556,\"#d8576b\"],[0.6666666666666666,\"#ed7953\"],[0.7777777777777778,\"#fb9f3a\"],[0.8888888888888888,\"#fdca26\"],[1.0,\"#f0f921\"]]}],\"mesh3d\":[{\"type\":\"mesh3d\",\"colorbar\":{\"outlinewidth\":0,\"ticks\":\"\"}}],\"scatter\":[{\"fillpattern\":{\"fillmode\":\"overlay\",\"size\":10,\"solidity\":0.2},\"type\":\"scatter\"}],\"parcoords\":[{\"type\":\"parcoords\",\"line\":{\"colorbar\":{\"outlinewidth\":0,\"ticks\":\"\"}}}],\"scatterpolargl\":[{\"type\":\"scatterpolargl\",\"marker\":{\"colorbar\":{\"outlinewidth\":0,\"ticks\":\"\"}}}],\"bar\":[{\"error_x\":{\"color\":\"#2a3f5f\"},\"error_y\":{\"color\":\"#2a3f5f\"},\"marker\":{\"line\":{\"color\":\"#E5ECF6\",\"width\":0.5},\"pattern\":{\"fillmode\":\"overlay\",\"size\":10,\"solidity\":0.2}},\"type\":\"bar\"}],\"scattergeo\":[{\"type\":\"scattergeo\",\"marker\":{\"colorbar\":{\"outlinewidth\":0,\"ticks\":\"\"}}}],\"scatterpolar\":[{\"type\":\"scatterpolar\",\"marker\":{\"colorbar\":{\"outlinewidth\":0,\"ticks\":\"\"}}}],\"histogram\":[{\"marker\":{\"pattern\":{\"fillmode\":\"overlay\",\"size\":10,\"solidity\":0.2}},\"type\":\"histogram\"}],\"scattergl\":[{\"type\":\"scattergl\",\"marker\":{\"colorbar\":{\"outlinewidth\":0,\"ticks\":\"\"}}}],\"scatter3d\":[{\"type\":\"scatter3d\",\"line\":{\"colorbar\":{\"outlinewidth\":0,\"ticks\":\"\"}},\"marker\":{\"colorbar\":{\"outlinewidth\":0,\"ticks\":\"\"}}}],\"scattermapbox\":[{\"type\":\"scattermapbox\",\"marker\":{\"colorbar\":{\"outlinewidth\":0,\"ticks\":\"\"}}}],\"scatterternary\":[{\"type\":\"scatterternary\",\"marker\":{\"colorbar\":{\"outlinewidth\":0,\"ticks\":\"\"}}}],\"scattercarpet\":[{\"type\":\"scattercarpet\",\"marker\":{\"colorbar\":{\"outlinewidth\":0,\"ticks\":\"\"}}}],\"carpet\":[{\"aaxis\":{\"endlinecolor\":\"#2a3f5f\",\"gridcolor\":\"white\",\"linecolor\":\"white\",\"minorgridcolor\":\"white\",\"startlinecolor\":\"#2a3f5f\"},\"baxis\":{\"endlinecolor\":\"#2a3f5f\",\"gridcolor\":\"white\",\"linecolor\":\"white\",\"minorgridcolor\":\"white\",\"startlinecolor\":\"#2a3f5f\"},\"type\":\"carpet\"}],\"table\":[{\"cells\":{\"fill\":{\"color\":\"#EBF0F8\"},\"line\":{\"color\":\"white\"}},\"header\":{\"fill\":{\"color\":\"#C8D4E3\"},\"line\":{\"color\":\"white\"}},\"type\":\"table\"}],\"barpolar\":[{\"marker\":{\"line\":{\"color\":\"#E5ECF6\",\"width\":0.5},\"pattern\":{\"fillmode\":\"overlay\",\"size\":10,\"solidity\":0.2}},\"type\":\"barpolar\"}],\"pie\":[{\"automargin\":true,\"type\":\"pie\"}]},\"layout\":{\"autotypenumbers\":\"strict\",\"colorway\":[\"#636efa\",\"#EF553B\",\"#00cc96\",\"#ab63fa\",\"#FFA15A\",\"#19d3f3\",\"#FF6692\",\"#B6E880\",\"#FF97FF\",\"#FECB52\"],\"font\":{\"color\":\"#2a3f5f\"},\"hovermode\":\"closest\",\"hoverlabel\":{\"align\":\"left\"},\"paper_bgcolor\":\"white\",\"plot_bgcolor\":\"#E5ECF6\",\"polar\":{\"bgcolor\":\"#E5ECF6\",\"angularaxis\":{\"gridcolor\":\"white\",\"linecolor\":\"white\",\"ticks\":\"\"},\"radialaxis\":{\"gridcolor\":\"white\",\"linecolor\":\"white\",\"ticks\":\"\"}},\"ternary\":{\"bgcolor\":\"#E5ECF6\",\"aaxis\":{\"gridcolor\":\"white\",\"linecolor\":\"white\",\"ticks\":\"\"},\"baxis\":{\"gridcolor\":\"white\",\"linecolor\":\"white\",\"ticks\":\"\"},\"caxis\":{\"gridcolor\":\"white\",\"linecolor\":\"white\",\"ticks\":\"\"}},\"coloraxis\":{\"colorbar\":{\"outlinewidth\":0,\"ticks\":\"\"}},\"colorscale\":{\"sequential\":[[0.0,\"#0d0887\"],[0.1111111111111111,\"#46039f\"],[0.2222222222222222,\"#7201a8\"],[0.3333333333333333,\"#9c179e\"],[0.4444444444444444,\"#bd3786\"],[0.5555555555555556,\"#d8576b\"],[0.6666666666666666,\"#ed7953\"],[0.7777777777777778,\"#fb9f3a\"],[0.8888888888888888,\"#fdca26\"],[1.0,\"#f0f921\"]],\"sequentialminus\":[[0.0,\"#0d0887\"],[0.1111111111111111,\"#46039f\"],[0.2222222222222222,\"#7201a8\"],[0.3333333333333333,\"#9c179e\"],[0.4444444444444444,\"#bd3786\"],[0.5555555555555556,\"#d8576b\"],[0.6666666666666666,\"#ed7953\"],[0.7777777777777778,\"#fb9f3a\"],[0.8888888888888888,\"#fdca26\"],[1.0,\"#f0f921\"]],\"diverging\":[[0,\"#8e0152\"],[0.1,\"#c51b7d\"],[0.2,\"#de77ae\"],[0.3,\"#f1b6da\"],[0.4,\"#fde0ef\"],[0.5,\"#f7f7f7\"],[0.6,\"#e6f5d0\"],[0.7,\"#b8e186\"],[0.8,\"#7fbc41\"],[0.9,\"#4d9221\"],[1,\"#276419\"]]},\"xaxis\":{\"gridcolor\":\"white\",\"linecolor\":\"white\",\"ticks\":\"\",\"title\":{\"standoff\":15},\"zerolinecolor\":\"white\",\"automargin\":true,\"zerolinewidth\":2},\"yaxis\":{\"gridcolor\":\"white\",\"linecolor\":\"white\",\"ticks\":\"\",\"title\":{\"standoff\":15},\"zerolinecolor\":\"white\",\"automargin\":true,\"zerolinewidth\":2},\"scene\":{\"xaxis\":{\"backgroundcolor\":\"#E5ECF6\",\"gridcolor\":\"white\",\"linecolor\":\"white\",\"showbackground\":true,\"ticks\":\"\",\"zerolinecolor\":\"white\",\"gridwidth\":2},\"yaxis\":{\"backgroundcolor\":\"#E5ECF6\",\"gridcolor\":\"white\",\"linecolor\":\"white\",\"showbackground\":true,\"ticks\":\"\",\"zerolinecolor\":\"white\",\"gridwidth\":2},\"zaxis\":{\"backgroundcolor\":\"#E5ECF6\",\"gridcolor\":\"white\",\"linecolor\":\"white\",\"showbackground\":true,\"ticks\":\"\",\"zerolinecolor\":\"white\",\"gridwidth\":2}},\"shapedefaults\":{\"line\":{\"color\":\"#2a3f5f\"}},\"annotationdefaults\":{\"arrowcolor\":\"#2a3f5f\",\"arrowhead\":0,\"arrowwidth\":1},\"geo\":{\"bgcolor\":\"white\",\"landcolor\":\"#E5ECF6\",\"subunitcolor\":\"white\",\"showland\":true,\"showlakes\":true,\"lakecolor\":\"white\"},\"title\":{\"x\":0.05},\"mapbox\":{\"style\":\"light\"}}},\"xaxis\":{\"anchor\":\"y\",\"domain\":[0.0,1.0],\"title\":{\"text\":\"Recall\"}},\"yaxis\":{\"anchor\":\"x\",\"domain\":[0.0,1.0],\"title\":{\"text\":\"Precision\"}},\"legend\":{\"tracegroupgap\":0},\"margin\":{\"t\":60}},                        {\"responsive\": true}                    ).then(function(){\n",
       "                            \n",
       "var gd = document.getElementById('11554e10-0cc6-4964-97cd-897cff593003');\n",
       "var x = new MutationObserver(function (mutations, observer) {{\n",
       "        var display = window.getComputedStyle(gd).display;\n",
       "        if (!display || display === 'none') {{\n",
       "            console.log([gd, 'removed!']);\n",
       "            Plotly.purge(gd);\n",
       "            observer.disconnect();\n",
       "        }}\n",
       "}});\n",
       "\n",
       "// Listen for the removal of the full notebook cells\n",
       "var notebookContainer = gd.closest('#notebook-container');\n",
       "if (notebookContainer) {{\n",
       "    x.observe(notebookContainer, {childList: true});\n",
       "}}\n",
       "\n",
       "// Listen for the clearing of the current output cell\n",
       "var outputEl = gd.closest('.output');\n",
       "if (outputEl) {{\n",
       "    x.observe(outputEl, {childList: true});\n",
       "}}\n",
       "\n",
       "                        })                };                });            </script>        </div>"
      ]
     },
     "metadata": {},
     "output_type": "display_data"
    }
   ],
   "source": [
    "import sklearn\n",
    "import sklearn.linear_model\n",
    "import plotly.offline as py\n",
    "import plotly.express as px\n",
    "X_ROC = process_data(train)\n",
    "Y_ROC = train['spam']\n",
    "linear_regression = sklearn.linear_model.LogisticRegression(fit_intercept=True)\n",
    "linear_regression.fit(X_ROC,Y_ROC)\n",
    "precision, recall, threshold = precision_recall_curve(Y_ROC, linear_regression.predict_proba(X_ROC)[:,1])\n",
    "fig = px.line(x=recall[:-1], y=precision[:-1], hover_name=threshold)\n",
    "fig.update_xaxes(title=\"Recall\")\n",
    "fig.update_yaxes(title=\"Precision\")"
   ]
  },
  {
   "cell_type": "markdown",
   "metadata": {
    "tags": []
   },
   "source": [
    "<!-- END QUESTION -->\n",
    "\n",
    "<br/><br/>\n",
    "<hr style=\"border: 1px solid #fdb515;\" />\n",
    "\n",
    "# Question 4\n",
    "\n",
    "### Grading Scheme\n",
    "\n",
    "Your grade for Question 4 will be based on your training accuracy and contest **test** accuracy (note that this is another test set, separate from our existing test set!). The thresholds are as follows:\n",
    "\n",
    "Points | 5 | 3 | 1.5 | 0\n",
    "--- | --- | --- | --- | ---\n",
    "**Training** Accuracy | Above 85% | \\[80, 85) | \\[70, 80) | Below 70%\n",
    "\n",
    "Points | 10 | 6 | 3 | 0\n",
    "--- | --- | --- | --- | ---\n",
    "**Testing** Accuracy | Above 85% | \\[80, 85) | \\[70, 80) | Below 70%\n",
    "\n",
    "\n",
    "\n",
    "<br><br>\n",
    "\n",
    "---\n",
    "\n",
    "## Question 4a: Train Predictions\n",
    "\n",
    "Assign your train prediction to the variable `train_predictions` below."
   ]
  },
  {
   "cell_type": "code",
   "execution_count": null,
   "metadata": {
    "ExecuteTime": {
     "end_time": "2019-04-02T00:27:38.650695Z",
     "start_time": "2019-04-02T00:27:38.469233Z"
    },
    "nbgrader": {
     "grade": false,
     "grade_id": "q10-answer",
     "locked": false,
     "schema_version": 2,
     "solution": true
    },
    "tags": []
   },
   "outputs": [],
   "source": [
    "import sklearn\n",
    "import sklearn.linear_model\n",
    "X_train = process_data(train)\n",
    "Y_train = train['spam']\n",
    "linear_regression = sklearn.linear_model.LogisticRegression(fit_intercept=True)\n",
    "linear_regression.fit(X_train,Y_train)\n",
    "train_predictions = linear_regression.predict(X_train)"
   ]
  },
  {
   "cell_type": "code",
   "execution_count": null,
   "metadata": {
    "deletable": false,
    "editable": false
   },
   "outputs": [],
   "source": [
    "grader.check(\"q4a\")"
   ]
  },
  {
   "cell_type": "markdown",
   "metadata": {
    "tags": []
   },
   "source": [
    "<br><br>\n",
    "\n",
    "---\n",
    "\n",
    "## Question 4b: Test Predictions\n",
    "\n",
    "The following code will write your predictions on the test dataset to a CSV file. **You will need to submit this file to the \"Project B.2 Test Predictions\" assignment on Gradescope to get credit for this question.**\n",
    "\n",
    "Save your predictions in a 1-dimensional array called `test_predictions`. **Please make sure you've saved your predictions to `test_predictions` as this is how part of your score for this question will be determined.**\n",
    "\n",
    "**Remember that if you've performed transformations or featurization on the training data, you must also perform the same transformations on the test data in order to make predictions.** For example, if you've created features for the words \"drug\" and \"money\" on the training data, you must also extract the same features in order to use scikit-learn's `.predict(...)` method.\n",
    "\n",
    "**You may submit up to 3 times a day. If you have submitted 3 times on a day, you will need to wait until the next day for more submissions.**\n",
    "\n",
    "*The provided tests check that your predictions are in the correct format, but you must additionally submit to Gradescope to evaluate your classifier accuracy.*"
   ]
  },
  {
   "cell_type": "code",
   "execution_count": null,
   "metadata": {
    "ExecuteTime": {
     "end_time": "2019-04-02T00:27:38.650695Z",
     "start_time": "2019-04-02T00:27:38.469233Z"
    },
    "nbgrader": {
     "grade": false,
     "grade_id": "q10-answer",
     "locked": false,
     "schema_version": 2,
     "solution": true
    },
    "tags": []
   },
   "outputs": [],
   "source": [
    "x = process_data(test)\n",
    "test_predictions = linear_regression.predict(x)"
   ]
  },
  {
   "cell_type": "code",
   "execution_count": null,
   "metadata": {
    "deletable": false,
    "editable": false
   },
   "outputs": [],
   "source": [
    "grader.check(\"q4b\")"
   ]
  },
  {
   "cell_type": "markdown",
   "metadata": {
    "nbgrader": {
     "grade": false,
     "grade_id": "cell-d15e30e2a961277d",
     "locked": true,
     "schema_version": 2,
     "solution": false
    }
   },
   "source": [
    "The following cell generates a CSV file with your predictions. **You must submit this CSV file to the \"Project B2 Test Predictions\" assignment on Gradescope to get credit for this question.** There are a maximum of 3 attempts per day of submitting to this assignment, so please use them wisely!"
   ]
  },
  {
   "cell_type": "code",
   "execution_count": null,
   "metadata": {
    "ExecuteTime": {
     "end_time": "2019-04-02T00:27:39.986326Z",
     "start_time": "2019-04-02T00:27:38.385Z"
    },
    "nbgrader": {
     "grade": false,
     "grade_id": "cell-8dd1bfadcbe08b00",
     "locked": true,
     "schema_version": 2,
     "solution": false
    }
   },
   "outputs": [],
   "source": [
    "from datetime import datetime\n",
    "from IPython.display import display, HTML\n",
    "\n",
    "# Assuming that your predictions on the test set are stored in a 1-dimensional array called\n",
    "# test_predictions. Feel free to modify this cell as long you create a CSV in the right format.\n",
    "\n",
    "# Construct and save the submission:\n",
    "submission_df = pd.DataFrame({\n",
    "    \"Id\": test['id'], \n",
    "    \"Class\": test_predictions,\n",
    "}, columns=['Id', 'Class'])\n",
    "timestamp = datetime.now().strftime(\"%Y%m%d_%H%M%S\")\n",
    "filename = \"submission_{}.csv\".format(timestamp)\n",
    "submission_df.to_csv(filename, index=False)\n",
    "\n",
    "print('Created a CSV file: {}.'.format(\"submission_{}.csv\".format(timestamp)))\n",
    "display(HTML(\"Download your test prediction <a href='\" + filename + \"' download>here</a>.\"))\n",
    "print('You may now upload this CSV file to Gradescope for scoring.')#"
   ]
  },
  {
   "cell_type": "markdown",
   "metadata": {},
   "source": [
    "<br/><br/>\n",
    "<hr style=\"border: 5px solid #003262;\" />\n",
    "<hr style=\"border: 1px solid #fdb515;\" />\n",
    "\n",
    "## Congratulations! You have finished Project B2!\n",
    "\n",
    "Below, you will see two cells. Running the first cell will automatically generate a PDF of all questions that need to be manually graded, and running the second cell will automatically generate a zip with your autograded answers. **You are responsible for both the coding portion (the zip from Project B.2) and the written portion (the PDF with from Project B.2) to their respective Gradescope portals, and checking that they are the most recent copy or the copy you wish to submit (including plots and all written answers).** The coding proportion should be submitted to Project B.2 Coding as a single zip file, and the written portion should be submitted to Project B.2 Written as a single pdf file. When submitting the written portion, please ensure you select pages appropriately. In addition, you must submit your test prediction in Q4b to **Project B.2 Test Set Predictions** for the corresponding points. \n",
    "\n",
    "If there are issues with automatically generating the PDF in the first cell, you can try downloading the notebook as a PDF by clicking on `File -> Save and Export Notebook As... -> PDF`. If that doesn't work either, you can manually take screenshots of your answers to the manually graded questions and submit those. Either way, **you are responsible for ensuring your submission follows our requirements, we will NOT be granting regrade requests for submissions that don't follow instructions.**"
   ]
  },
  {
   "cell_type": "code",
   "execution_count": null,
   "metadata": {},
   "outputs": [],
   "source": [
    "from otter.export import export_notebook\n",
    "from os import path\n",
    "from IPython.display import display, HTML\n",
    "export_notebook(\"projB2.ipynb\", filtering=True, pagebreaks=True)\n",
    "if path.exists('projB2.pdf'):\n",
    "    display(HTML(\"Download your PDF <a href='projB2.pdf' download>here</a>.\"))\n",
    "else:\n",
    "    print(\"\\n Pdf generation fails, please try the other methods described above\")"
   ]
  },
  {
   "cell_type": "markdown",
   "metadata": {
    "deletable": false,
    "editable": false
   },
   "source": [
    "## Submission\n",
    "\n",
    "Make sure you have run all cells in your notebook in order before running the cell below, so that all images/graphs appear in the output. The cell below will generate a zip file for you to submit. **Please save before exporting!**"
   ]
  },
  {
   "cell_type": "code",
   "execution_count": null,
   "metadata": {
    "deletable": false,
    "editable": false
   },
   "outputs": [],
   "source": [
    "# Save your notebook first, then run this cell to export your submission.\n",
    "grader.export(run_tests=True)"
   ]
  },
  {
   "cell_type": "markdown",
   "metadata": {},
   "source": [
    " "
   ]
  }
 ],
 "metadata": {
  "kernelspec": {
   "display_name": "Python 3 (ipykernel)",
   "language": "python",
   "name": "python3"
  },
  "language_info": {
   "codemirror_mode": {
    "name": "ipython",
    "version": 3
   },
   "file_extension": ".py",
   "mimetype": "text/x-python",
   "name": "python",
   "nbconvert_exporter": "python",
   "pygments_lexer": "ipython3",
   "version": "3.9.0"
  },
  "otter": {
   "OK_FORMAT": true,
   "tests": {
    "q4a": {
     "name": "q4a",
     "points": 5,
     "suites": [
      {
       "cases": [
        {
         "code": ">>> np.mean(train_predictions == train[\"spam\"]) > 0.7\nTrue",
         "hidden": false,
         "locked": false,
         "points": 1.5
        },
        {
         "code": ">>> np.mean(train_predictions == train[\"spam\"]) > 0.8\nTrue",
         "hidden": false,
         "locked": false,
         "points": 1.5
        },
        {
         "code": ">>> np.mean(train_predictions == train[\"spam\"]) > 0.85\nTrue",
         "hidden": false,
         "locked": false,
         "points": 2
        }
       ],
       "scored": true,
       "setup": "",
       "teardown": "",
       "type": "doctest"
      }
     ]
    },
    "q4b": {
     "name": "q4b",
     "points": 0,
     "suites": [
      {
       "cases": [
        {
         "code": ">>> isinstance(test_predictions, np.ndarray) # must be ndarray of predictions\nTrue",
         "hidden": false,
         "locked": false
        },
        {
         "code": ">>> np.array_equal(np.unique(test_predictions), np.array([0, 1])) # Must be binary labels (0 or 1) and not probabilities\nTrue",
         "hidden": false,
         "locked": false
        },
        {
         "code": ">>> len(test_predictions) == 1000 # Must be the right number of predictions\nTrue",
         "hidden": false,
         "locked": false
        }
       ],
       "scored": true,
       "setup": "",
       "teardown": "",
       "type": "doctest"
      }
     ]
    }
   }
  }
 },
 "nbformat": 4,
 "nbformat_minor": 4
}
